{
 "cells": [
  {
   "cell_type": "markdown",
   "metadata": {
    "id": "8a02943d"
   },
   "source": [
    "# CS273A Homework 5\n",
    "\n",
    "## Due: Wednesday Nov 20 2024 (11:59pm)"
   ]
  },
  {
   "cell_type": "markdown",
   "metadata": {
    "id": "09c60894"
   },
   "source": [
    "---\n",
    "## Instructions\n",
    "\n",
    "\n",
    "This homework (and subsequent ones) will involve data analysis and reporting on methods and results\n",
    "using Python code. You will submit a **single PDF file** that contains everything to Gradescope. This includes any text you wish to include to describe your results, the complete code snippets of how you attempted each problem, any figures that were generated, and scans of any work on paper that you wish to include. It is important that you include enough detail that we know how you solved the problem, since otherwise we will be unable to grade it.\n",
    "\n",
    "Your homeworks will be given to you as Jupyter notebooks containing the problem descriptions and some template code that will help you get started. You are encouraged to use these starter Jupyter notebooks to complete your assignment and to write your report. This will help you not only ensure that all of the code for the solutions is included, but also will provide an easy way to export your results to a PDF file (for example, doing *print preview* and *printing to pdf*). I recommend liberal use of Markdown cells to create headers for each problem and sub-problem, explaining your implementation/answers, and including any mathematical equations. For parts of the homework you do on paper, scan it in such that it is legible (there are a number of free Android/iOS scanning apps, if you do not have access to a scanner), and include it as an image in the Jupyter notebook.\n",
    "\n",
    "**Double check that all of your answers are legible on Gradescope, e.g. make sure any text you have written does not get cut off.**\n",
    "\n",
    "If you have any questions/concerns about using Jupyter notebooks, ask us on EdD. If you decide not to use Jupyter notebooks, but go with Microsoft Word or LaTeX to create your PDF file, make sure that all of the answers can be generated from the code snippets included in the document.\n",
    "### Summary of Assignment: 100 total points\n",
    "- Problem 1:  Decision Trees by Hand (25 points)\n",
    "    - Problem 1.1:  Shannon Entropy (5 points)\n",
    "    - Problem 1.2:  Information Gain (10 points)\n",
    "    - Problem 1.3:  Full Tree (10 points)\n",
    "- Problem 2: Decision Trees in Python (34 points)\n",
    "    - Problem 2.1: Feature Statistics (8 points)\n",
    "    - Problem 2.2: Initial Tree (6 points)\n",
    "    - Problem 2.3: Exploring Depth Control (10 points)\n",
    "    - Problem 2.4: Exploring Leaf Size (10 points)\n",
    "- Problem 3: Random Forests (20 points)\n",
    "    - Problem 3.1: Training Members (10 points)\n",
    "    - Problem 3.2: Ensemble Prediction (10 points)\n",
    "- Problem 4: VC Dimension (16 points)\n",
    "    - Problem 4.1: Model A (4 points)\n",
    "    - Problem 4.2: Model B (4 points)\n",
    "    - Problem 4.3: Model C (4 points)\n",
    "    - Problem 4.4: Model D (4 points)\n",
    "- Statement of Collaboration (5 points)"
   ]
  },
  {
   "cell_type": "markdown",
   "metadata": {
    "id": "7b721e2a"
   },
   "source": [
    "Before we get started, let's import some libraries that you will make use of in this assignment. Make sure that you run the code cell below in order to import these libraries.\n",
    "\n",
    "**Important: In the code block below, we set `seed=1234`. This is to ensure your code has reproducible results and is important for grading. Do not change this. If you are not using the provided Jupyter notebook, make sure to also set the random seed as below.**\n",
    "\n",
    "**Important: Do not change any codes we give you below, except for those waiting for you to complete. This is to ensure your code has reproducible results and is important for grading.**"
   ]
  },
  {
   "cell_type": "code",
   "execution_count": 5,
   "metadata": {
    "executionInfo": {
     "elapsed": 445,
     "status": "ok",
     "timestamp": 1700601893926,
     "user": {
      "displayName": "Samuel Showalter",
      "userId": "14379346311603786226"
     },
     "user_tz": 480
    },
    "id": "1e3be6e5"
   },
   "outputs": [],
   "source": [
    "import numpy as np\n",
    "import matplotlib.pyplot as plt\n",
    "\n",
    "import requests                                      # reading data\n",
    "from io import StringIO\n",
    "\n",
    "from sklearn.datasets import fetch_openml            # common data set access\n",
    "from sklearn.preprocessing import StandardScaler     # scaling transform\n",
    "from sklearn.model_selection import train_test_split # validation tools\n",
    "from sklearn.metrics import zero_one_loss as J01\n",
    "\n",
    "import sklearn.tree as tree\n",
    "\n",
    "# Fix the random seed for reproducibility\n",
    "# !! Important !! : do not change this\n",
    "seed = 1234\n",
    "np.random.seed(seed)"
   ]
  },
  {
   "cell_type": "markdown",
   "metadata": {
    "id": "dc194425"
   },
   "source": [
    "---\n",
    "## Problem 1: Decision Trees for Spam"
   ]
  },
  {
   "cell_type": "markdown",
   "metadata": {
    "id": "08db9a1a"
   },
   "source": [
    "In order to reduce my email load, I decide to implement a machine learning algorithm to decide whether or not I should read an email, or simply file it away instead.  To train my model, I obtain the following data set of binary-valued features about each email, including whether I know the author or not, whether the email is long or short, and whether it has any of several key words, along with my final decision about whether to read it ($y=+1$ for \"read\", $y=-1$ for \"discard\").\n",
    "\n",
    "| X1 | X2 | X3 | X4 | X5 | y |\n",
    "|----|----|----|----|----|----|\n",
    "| (know author?) | (is long?)| (has 'research'?) | (has 'grade'?) | (has 'lottery'?) | (read?) |\n",
    "| 0  | 0  | 1  | 1  | 0  | -1 |\n",
    "| 1  | 1  | 0  | 1  | 0  | -1 |\n",
    "| 0  | 1  | 1  | 1  | 1  | -1 |\n",
    "| 1  | 1  | 1  | 1  | 0  | -1 |\n",
    "| 0  | 1  | 0  | 0  | 0  | -1 |\n",
    "| 1  | 0  | 1  | 1  | 1  |  1 |\n",
    "| 0  | 0  | 1  | 0  | 0  |  1 |\n",
    "| 1  | 0  | 0  | 0  | 0  |  1 |\n",
    "| 1  | 0  | 1  | 1  | 0  |  1 |\n",
    "| 1  | 1  | 1  | 1  | 1  | -1 |\n",
    "\n",
    "In the case of any ties where both classes have equal probability, we will prefer to predict class $+1$."
   ]
  },
  {
   "cell_type": "markdown",
   "metadata": {
    "id": "63733bef"
   },
   "source": [
    "Solve the following problems \"by hand\" (you can use python for logarithms, etc.)"
   ]
  },
  {
   "cell_type": "markdown",
   "metadata": {
    "id": "4cfbce3f"
   },
   "source": [
    "### Problem 1.1   (5 points)\n",
    "\n",
    "**Calculate the Shannon entropy** $H(y)$ of the binary class variable $y$, in bits.  **Hint:** Your answer should be a number between 0 and 1."
   ]
  },
  {
   "cell_type": "markdown",
   "id": "9a7b58c8",
   "metadata": {},
   "source": [
    "y = -1 => 6/10 => 0.6\n",
    "\n",
    "y = 1 => 4/10 => 0.4\n",
    "\n",
    "H(y) = -[0.6log2 0.6 + 0.4log2 0.4]\n",
    "\n",
    "0.6 log2 0.6 = 0.6 (-0.73697) = -0.44218\n",
    "\n",
    "0.4 log2 0.4 = 0.4 (-1/32193) = -0.52877\n",
    "\n",
    "H(y) = -(0.44218 + (-0.52877)) = 0.97051\n",
    "\n",
    "***shannon entropy = 0.971 bits***"
   ]
  },
  {
   "cell_type": "markdown",
   "metadata": {
    "id": "fd05e2ac"
   },
   "source": [
    "### Problem 1.2  (5 points)\n",
    "\n",
    "**Calculate the information gain** for each feature $x_i$.  Which feature should be split first?"
   ]
  },
  {
   "cell_type": "markdown",
   "id": "cd885cdc",
   "metadata": {},
   "source": [
    "Information Gain for each feature:\n",
    "\n",
    "Feature X1: 0.0464\n",
    "\n",
    "Feature X2: 0.6100\n",
    "\n",
    "Feature X3: 0.0058\n",
    "\n",
    "Feature X4: 0.0913\n",
    "\n",
    "Feature X5: 0.0058\n",
    "\n",
    "From this, we would choose to split on the feature that has the highest information gain which would be feature X2"
   ]
  },
  {
   "cell_type": "markdown",
   "metadata": {
    "id": "fd292650"
   },
   "source": [
    "### Problem 1.3  (5 points)\n",
    "\n",
    "**Draw** (or otherwise illustrate) **the complete decision tree** that will be learned from these data."
   ]
  },
  {
   "cell_type": "markdown",
   "id": "f2a4f810",
   "metadata": {},
   "source": [
    "![image.png](Tree.png)"
   ]
  },
  {
   "cell_type": "markdown",
   "metadata": {
    "id": "8d8abe82"
   },
   "source": [
    "<div>\n",
    "    <img src=\"data:image/svg+xml,%3C%3Fxml%20version%3D%221.0%22%20encoding%3D%22UTF-8%22%20standalone%3D%22no%22%3F%3E%0A%3C%21DOCTYPE%20svg%20PUBLIC%20%22-//W3C//DTD%20SVG%201.1//EN%22%20%22http%3A//www.w3.org/Graphics/SVG/1.1/DTD/svg11.dtd%22%3E%0A%3Csvg%20stroke-miterlimit%3D%2210%22%20style%3D%22fill-rule%3Anonzero%3Bclip-rule%3Aevenodd%3Bstroke-linecap%3Around%3Bstroke-linejoin%3Around%3B%22%20version%3D%221.1%22%20viewBox%3D%220%200%20288%2072%22%20xml%3Aspace%3D%22preserve%22%20xmlns%3D%22http%3A//www.w3.org/2000/svg%22%20xmlns%3Axlink%3D%22http%3A//www.w3.org/1999/xlink%22%3E%0A%3Cdefs/%3E%0A%3Cg%20id%3D%22Layer-1%22%3E%0A%3Cpath%20d%3D%22M34.042%2035.8741C45.8469%2023.244%2031.1794%2022.6473%2024.2857%2024.1167C17.3921%2025.5861-0.960215%2033.2987%206.07817%2043.4256C13.1166%2053.5525%2023.0237%2056.9377%2052.2446%2053.4091C81.4656%2049.8804%2097.2436%2032.811%20122.962%2029.3111C148.681%2025.8112%20155.118%2039.4093%20155.118%2039.4093%22%20fill%3D%22none%22%20opacity%3D%221%22%20stroke%3D%22%23000000%22%20stroke-linecap%3D%22butt%22%20stroke-linejoin%3D%22round%22%20stroke-width%3D%223%22/%3E%0A%3Cpath%20d%3D%22M254.053%2040.6889C242.328%2053.1071%20256.999%2053.6247%20263.883%2052.1549C270.768%2050.685%20289.071%2043.0512%20281.969%2033.1691C274.868%2023.287%20264.94%2020.0179%20235.741%2023.6051C206.543%2027.1922%20190.872%2043.9744%20165.176%2047.5176C139.48%2051.0607%20132.957%2037.7776%20132.957%2037.7776%22%20fill%3D%22none%22%20opacity%3D%221%22%20stroke%3D%22%23000000%22%20stroke-linecap%3D%22butt%22%20stroke-linejoin%3D%22round%22%20stroke-width%3D%223%22/%3E%0A%3C/g%3E%0A%3C/svg%3E%0A\" width=\"200\"/>\n",
    "</div>"
   ]
  },
  {
   "cell_type": "markdown",
   "metadata": {
    "id": "67d218cb"
   },
   "source": [
    "## Problem 2: Decision trees in Python"
   ]
  },
  {
   "cell_type": "markdown",
   "metadata": {
    "id": "496c697a"
   },
   "source": [
    "In the next problem, we will use decision trees to predict a data set used for Kaggle competitions in older iterations of the course; see e.g.,\n",
    "https://www.kaggle.com/c/uc-irvine-cs273a-2016\n",
    "\n",
    "Note that I have altered the data from that competition to make the target variables +1 and -1, instead of 0/1, to better match some of the ensemble slides.\n",
    "\n",
    "First, let's load the data:"
   ]
  },
  {
   "cell_type": "code",
   "execution_count": 6,
   "metadata": {
    "colab": {
     "base_uri": "https://localhost:8080/"
    },
    "executionInfo": {
     "elapsed": 2310,
     "status": "ok",
     "timestamp": 1700602148369,
     "user": {
      "displayName": "Samuel Showalter",
      "userId": "14379346311603786226"
     },
     "user_tz": 480
    },
    "id": "923d3650",
    "outputId": "02c52dc3-8f93-4469-896b-c83a1205091b"
   },
   "outputs": [
    {
     "name": "stderr",
     "output_type": "stream",
     "text": [
      "c:\\Users\\sarah\\AppData\\Local\\Programs\\Python\\Python312\\Lib\\site-packages\\urllib3\\connectionpool.py:1099: InsecureRequestWarning: Unverified HTTPS request is being made to host 'www.ics.uci.edu'. Adding certificate verification is strongly advised. See: https://urllib3.readthedocs.io/en/latest/advanced-usage.html#tls-warnings\n",
      "  warnings.warn(\n",
      "c:\\Users\\sarah\\AppData\\Local\\Programs\\Python\\Python312\\Lib\\site-packages\\urllib3\\connectionpool.py:1099: InsecureRequestWarning: Unverified HTTPS request is being made to host 'ics.uci.edu'. Adding certificate verification is strongly advised. See: https://urllib3.readthedocs.io/en/latest/advanced-usage.html#tls-warnings\n",
      "  warnings.warn(\n"
     ]
    }
   ],
   "source": [
    "url = 'https://www.ics.uci.edu/~ihler/classes/cs273/data/precip_train.txt'\n",
    "\n",
    "with requests.get(url, verify=False) as link:\n",
    "  data = np.genfromtxt(StringIO(link.text),delimiter=None)\n",
    "\n",
    "X,Y = data[:,:-1], data[:,-1]"
   ]
  },
  {
   "cell_type": "markdown",
   "metadata": {
    "id": "7ac1c910"
   },
   "source": [
    "#### Problem 2.1\n",
    "Compute and print some useful statistics about the data -- the minimum, maximum, mean, and variance of each of the features."
   ]
  },
  {
   "cell_type": "code",
   "execution_count": 7,
   "metadata": {},
   "outputs": [
    {
     "name": "stdout",
     "output_type": "stream",
     "text": [
      "shape of X: (20000, 14) \n",
      "\n",
      "shape of Y: (20000,) \n",
      "\n",
      "mean:\n",
      " [2.41898974e+02 2.28381307e+02 2.41905935e+02 2.33825377e+02\n",
      " 2.84904650e+03 8.62861100e+02 1.63652650e+02 3.05575493e+00\n",
      " 6.31144194e+00 1.89391480e+00 4.28955135e+00 2.79775083e+00\n",
      " 1.04525366e+01 7.65813000e+00] \n",
      "\n",
      "variance:\n",
      " [8.11988160e+01 8.91502653e+01 3.45577443e+01 9.45072114e+01\n",
      " 1.05055883e+07 3.09041521e+06 6.98073356e+05 7.27689095e+00\n",
      " 6.18300320e+00 4.15093181e+00 3.94461529e+00 1.93234397e+00\n",
      " 1.70001843e+02 1.52894736e+03] \n",
      "\n",
      "standard deviation:\n",
      " [9.01103856e+00 9.44194182e+00 5.87858353e+00 9.72148196e+00\n",
      " 3.24123253e+03 1.75795768e+03 8.35507843e+02 2.69757131e+00\n",
      " 2.48656454e+00 2.03738357e+00 1.98610556e+00 1.39008776e+00\n",
      " 1.30384755e+01 3.91017565e+01] \n",
      "\n",
      "max val:\n",
      " [2.5300e+02 2.4800e+02 2.5202e+02 2.5202e+02 1.7130e+04 1.2338e+04\n",
      " 9.2380e+03 2.7419e+01 1.8107e+01 1.1368e+01 1.8771e+01 1.4745e+01\n",
      " 2.7871e+02 7.6920e+02] \n",
      "\n",
      "min val:\n",
      " [ 197.      190.      214.97    205.42     10.        0.        0.\n",
      "    0.        1.2189    0.        0.        0.        1.0271 -999.9   ] \n",
      "\n"
     ]
    }
   ],
   "source": [
    "# get the shape of X\n",
    "print(\"shape of X:\" , np.shape(X), \"\\n\")\n",
    "\n",
    "# get the shape of Y\n",
    "print(\"shape of Y:\" ,np.shape(Y), \"\\n\")\n",
    "\n",
    "# mean \n",
    "print(\"mean:\\n\" , np.mean(X, axis=0) , \"\\n\")\n",
    "\n",
    "# variance \n",
    "print(\"variance:\\n\" , np.var(X, axis=0) , \"\\n\"); \n",
    "\n",
    "# standard deviation \n",
    "print(\"standard deviation:\\n\" , np.std(X, axis=0) , \"\\n\")\n",
    "\n",
    "# maximum val \n",
    "print(\"max val:\\n\" , X.max(axis=0) , \"\\n\")\n",
    "\n",
    "# minimum val \n",
    "print(\"min val:\\n\" , X.min(axis=0) , \"\\n\")\n",
    "\n"
   ]
  },
  {
   "cell_type": "markdown",
   "metadata": {
    "id": "7ac1c910"
   },
   "source": [
    "In past assignments, we have first normalized the data (subtracting the mean and scaling each feature).  We will not do that here, however. Why is that step unnecessary for our decision tree model?"
   ]
  },
  {
   "cell_type": "markdown",
   "id": "1e9e6fd7",
   "metadata": {},
   "source": [
    "*******************COME BACK AND ANSWER*******************"
   ]
  },
  {
   "cell_type": "markdown",
   "metadata": {
    "id": "29ecfd60"
   },
   "source": [
    "#### Problem 2.2\n",
    "To allow faster experimentation, select the first 10,000 data points as training data, ``Xtr, Ytr``, and the next 10,000 data points as validation, ``Xva, Yva``.  Then, learn a decision tree classifier on ``Xtr`` using the ``DecisionTreeClassifier`` class from ``scikit-learn``.  Use a large depth, say ``max_depth=100``, and the Shannon entropy impurity function in your training.  Also, use ``random_state=seed`` to ensure consistency.\n",
    "\n",
    "Compute and print out the training error rate and validation error rate of your model."
   ]
  },
  {
   "cell_type": "code",
   "execution_count": 8,
   "metadata": {
    "id": "3bee9cda"
   },
   "outputs": [
    {
     "name": "stdout",
     "output_type": "stream",
     "text": [
      "Error rate train: 0.0098\n",
      "Error rate eval: 0.384\n"
     ]
    }
   ],
   "source": [
    "# train subset = first 10,000\n",
    "Xtr = X[:10000]\n",
    "Ytr = Y[:10000]\n",
    "\n",
    "# validation subset = next 10,000\n",
    "Xva = X[10000:20000]\n",
    "Yva = Y[10000:20000]\n",
    "\n",
    "model = tree.DecisionTreeClassifier(criterion='entropy', max_depth=100, random_state=seed)\n",
    "model.fit(Xtr, Ytr)\n",
    "\n",
    "y_pred_train = model.predict(Xtr)\n",
    "y_pred_eval = model.predict(Xva)\n",
    "\n",
    "error_rate_train = np.mean(y_pred_train != Ytr)\n",
    "error_rate_eval = np.mean(y_pred_eval != Yva)\n",
    "\n",
    "print(f\"Error rate train: {error_rate_train}\")\n",
    "print(f\"Error rate eval: {error_rate_eval}\")"
   ]
  },
  {
   "cell_type": "markdown",
   "metadata": {
    "id": "3213ff99"
   },
   "source": [
    "#### Problem 2.3\n",
    "Now try varying the ``max_depth`` parameter, , which forces the tree learning algorithm to stop after at most that many levels.  Test ``max_depth`` values in the range {1, 2, 3, ..., 16}, and plot the training and validation error rates versus ``max_depth``.\n",
    "Do models with higher ``max_depth`` have higher or lower complexity?\n",
    "What choice of ``max_depth`` provides the best decision tree model?"
   ]
  },
  {
   "cell_type": "code",
   "execution_count": 9,
   "metadata": {
    "id": "0a6581f5"
   },
   "outputs": [
    {
     "data": {
      "image/png": "[encoded data removed]",
      "text/plain": [
       "<Figure size 640x480 with 1 Axes>"
      ]
     },
     "metadata": {},
     "output_type": "display_data"
    }
   ],
   "source": [
    "error_rate_train = []\n",
    "error_rate_eval = []\n",
    "\n",
    "for depth in range(1, 17):\n",
    "    model = tree.DecisionTreeClassifier(criterion='entropy', max_depth=depth, random_state=seed)\n",
    "    model.fit(Xtr, Ytr)\n",
    "\n",
    "    y_pred_train = model.predict(Xtr)\n",
    "    y_pred_eval = model.predict(Xva)\n",
    "\n",
    "    error_rate_train.append(np.mean(y_pred_train != Ytr))\n",
    "    error_rate_eval.append(np.mean(y_pred_eval != Yva))\n",
    "\n",
    "plt.plot(error_rate_train, color='blue', label='Train Error')\n",
    "plt.plot(error_rate_eval, color='red', label='Validation Error')\n",
    "plt.xlabel(\"Depth\")\n",
    "plt.ylabel(\"Error Rate\")\n",
    "plt.title(\"Depth vs. Error\")\n",
    "plt.legend();\n",
    "\n",
    "    "
   ]
  },
  {
   "cell_type": "markdown",
   "id": "f419c74c",
   "metadata": {},
   "source": [
    "Models with higher max depth have higher complexity. this is because increasing the depth allows the decision tree to create more specific splits which fits the data more and more closely. but these deeper models also lead to overfitting as they learn the noise in the training data. \n",
    "\n",
    "when comparing train and validation error against the max depth, i can first of all see that the train error decreases significatly but the validation error tends to stay the same at about 30% which is quite high. Validation rate does also start to slgithly increase at a depth of 6 - 8. it would be ideal to be in a range where both train and validation error are low but also have similar error so i would choose a depth of anywhere between 6 and 8. (i also wanna say somewhere around 4 as the error is closer together but then performance on train data is really bad)  "
   ]
  },
  {
   "cell_type": "markdown",
   "metadata": {
    "id": "a0bf854e"
   },
   "source": [
    "#### Problem 2.4\n",
    "The ``min_samples_leaf`` parameter  controls the complexity of decision trees by lower bounding the amount of data required to split nodes when learning.  Fixing ``max_depth=100``, compute and plot the training and validation error rates for ``min_samples_leaf`` values in the range\n",
    "``{2**0, 2**1, 2**2, ... 2**17}``.\n",
    "Do models with higher ``min_samples_leaf`` have higher or lower complexity?\n",
    "What choice of ``min_samples_leaf`` provides the best decision tree model?\n",
    "Is this model better or worse than your depth-controlled model?"
   ]
  },
  {
   "cell_type": "code",
   "execution_count": 10,
   "metadata": {
    "id": "3c884a0c"
   },
   "outputs": [
    {
     "data": {
      "image/png": "[encoded data removed]",
      "text/plain": [
       "<Figure size 640x480 with 1 Axes>"
      ]
     },
     "metadata": {},
     "output_type": "display_data"
    }
   ],
   "source": [
    "error_rate_train = []\n",
    "error_rate_eval = []\n",
    "\n",
    "for leaf in range(18):\n",
    "    leafVal = 2 ** leaf\n",
    "\n",
    "    model = tree.DecisionTreeClassifier(criterion='entropy', max_depth=1000, min_samples_leaf=leafVal, random_state=seed)\n",
    "    model.fit(Xtr, Ytr)\n",
    "\n",
    "    y_pred_train = model.predict(Xtr)\n",
    "    y_pred_eval = model.predict(Xva)\n",
    "\n",
    "    error_rate_train.append(np.mean(y_pred_train != Ytr))\n",
    "    error_rate_eval.append(np.mean(y_pred_eval != Yva))\n",
    "\n",
    "\n",
    "plt.plot(error_rate_train, color='blue', label='Train Error')\n",
    "plt.plot(error_rate_eval, color='red', label='Validation Error')\n",
    "plt.xlabel(\"Min Sample Leaf\")\n",
    "plt.ylabel(\"Error Rate\")\n",
    "plt.title(\"Min Sample Leaf vs. Train and Validation Error\")\n",
    "plt.legend();"
   ]
  },
  {
   "cell_type": "markdown",
   "id": "a39cb399",
   "metadata": {},
   "source": [
    "Models with higher min leaf samples have lower complexity. increasing this parameter forces each leaf in the tree to contain more samples which reduces the number of splits, simplifying the model. lower values of min leaf samples allow for more splits which increase the complexity and the risk of overfitting. \n",
    "\n",
    "in this case, i would choose a min leaf sample between 3 and 5 as there is an ideal gap between both train error and validation error. With higher values of min lead sample, error for both train and validation become very high. \n",
    "\n",
    "Both depth and min leaf samples model produce nearly the same error for both train and validation when picking the most optimal depth and leaf value. Leaf model may be a little worse as the train error is a bit larger than in the depth model when picking the best value for leaf and depth. \n",
    "\n",
    "***COME BACK***"
   ]
  },
  {
   "cell_type": "markdown",
   "metadata": {
    "id": "b5b1e29f"
   },
   "source": [
    "<div>\n",
    "    <img src=\"data:image/svg+xml,%3C%3Fxml%20version%3D%221.0%22%20encoding%3D%22UTF-8%22%20standalone%3D%22no%22%3F%3E%0A%3C%21DOCTYPE%20svg%20PUBLIC%20%22-//W3C//DTD%20SVG%201.1//EN%22%20%22http%3A//www.w3.org/Graphics/SVG/1.1/DTD/svg11.dtd%22%3E%0A%3Csvg%20stroke-miterlimit%3D%2210%22%20style%3D%22fill-rule%3Anonzero%3Bclip-rule%3Aevenodd%3Bstroke-linecap%3Around%3Bstroke-linejoin%3Around%3B%22%20version%3D%221.1%22%20viewBox%3D%220%200%20288%2072%22%20xml%3Aspace%3D%22preserve%22%20xmlns%3D%22http%3A//www.w3.org/2000/svg%22%20xmlns%3Axlink%3D%22http%3A//www.w3.org/1999/xlink%22%3E%0A%3Cdefs/%3E%0A%3Cg%20id%3D%22Layer-1%22%3E%0A%3Cpath%20d%3D%22M34.042%2035.8741C45.8469%2023.244%2031.1794%2022.6473%2024.2857%2024.1167C17.3921%2025.5861-0.960215%2033.2987%206.07817%2043.4256C13.1166%2053.5525%2023.0237%2056.9377%2052.2446%2053.4091C81.4656%2049.8804%2097.2436%2032.811%20122.962%2029.3111C148.681%2025.8112%20155.118%2039.4093%20155.118%2039.4093%22%20fill%3D%22none%22%20opacity%3D%221%22%20stroke%3D%22%23000000%22%20stroke-linecap%3D%22butt%22%20stroke-linejoin%3D%22round%22%20stroke-width%3D%223%22/%3E%0A%3Cpath%20d%3D%22M254.053%2040.6889C242.328%2053.1071%20256.999%2053.6247%20263.883%2052.1549C270.768%2050.685%20289.071%2043.0512%20281.969%2033.1691C274.868%2023.287%20264.94%2020.0179%20235.741%2023.6051C206.543%2027.1922%20190.872%2043.9744%20165.176%2047.5176C139.48%2051.0607%20132.957%2037.7776%20132.957%2037.7776%22%20fill%3D%22none%22%20opacity%3D%221%22%20stroke%3D%22%23000000%22%20stroke-linecap%3D%22butt%22%20stroke-linejoin%3D%22round%22%20stroke-width%3D%223%22/%3E%0A%3C/g%3E%0A%3C/svg%3E%0A\" width=\"200\"/>\n",
    "</div>"
   ]
  },
  {
   "cell_type": "markdown",
   "metadata": {
    "id": "d107dece"
   },
   "source": [
    "## Problem 3: Random Forests"
   ]
  },
  {
   "cell_type": "markdown",
   "metadata": {
    "id": "ece17c18"
   },
   "source": [
    "Although ``scikit`` has its own implementations of bagging estimators and random forests, here we will build a random forest model manually, for illustration.\n",
    "\n",
    "Random Forests are bagged collections of decision trees, which select their decision nodes from randomly chosen subsets of the possible features (rather than all features).  You can implement this easily in ``DecisionTreeClassifier`` using option ``max_features=n``, where ``n`` is the number of features to select from. Since you have ~ 14 features, you might choose, say, ``n=10``; smaller values of ``n`` will make each tree more random, but may require you to have a high maximum depth to ensure you still fit the data effectively.\n",
    "You'll write a for-loop to build the ensemble members, and another to compute the prediction of the ensemble."
   ]
  },
  {
   "cell_type": "markdown",
   "metadata": {
    "id": "ce482bc4"
   },
   "source": [
    "#### Problem 3.1\n",
    "\n",
    "Using your previous split of the data into training & validation sets,\n",
    "learn a bagged ensemble of decision trees on the training data;\n",
    "then in the next part, you will evaluate the validation performance of the ensemble.\n",
    "(See the pseudocode from lecture slides.)\n",
    "For your individual learners, use parameters that will not constrain the complexity of the resulting tree very much  (e.g., set your depth cutoff >= 15, min leaf 1-4, etc.), since the bagging will be used to control overfitting instead.\n",
    "\n",
    "You will implement bootstrap sampling yourself (again, see pseudocode); simply generate $m'$ data indices uniformly with replacement, using ``numpy`` functions or simply ``rand`` and conversion to integers.\n",
    "For your bootstrap process, draw the same number of data as in your training set after the\n",
    "validation split (i.e., set $m' = m$, the number of training data).\n",
    "\n",
    "Learn at least 50 ensemble members, as you will use them in the next part."
   ]
  },
  {
   "cell_type": "code",
   "execution_count": 13,
   "metadata": {
    "id": "30b7e804"
   },
   "outputs": [],
   "source": [
    "m = len(Xtr)\n",
    "\n",
    "models = [] # this is where all models will be stored \n",
    "\n",
    "for i in range(50):\n",
    "    # first need to generate the bootstrap sample w/ replacement \n",
    "    indicies = np.random.choice(m, size=m, replace=True)\n",
    "    x_boot = Xtr[indicies]\n",
    "    y_boot = Ytr[indicies]\n",
    "\n",
    "    # Then train & fit on bootstrap sample\n",
    "    model = tree.DecisionTreeClassifier(criterion='entropy', max_depth=15, min_samples_leaf=2, random_state=seed)\n",
    "    model.fit(x_boot, y_boot)\n",
    "\n",
    "    models.append(model)"
   ]
  },
  {
   "cell_type": "markdown",
   "metadata": {
    "id": "78a93a66"
   },
   "source": [
    "#### Problem 3.2\n",
    "\n",
    "Plot the training and validation error of the ensemble as a function of the number of learners $B$ that you include in the ensemble, for (at least) values $B \\in \\{1,5,10,25,50\\}$.  (Just use the first $B$ learners that you trained in part 1.)\n",
    "\n",
    "Remember that your ensemble predicts by making a prediction for each member model, and then taking a vote among the $B$ models.  Since your target classes are +1 and -1, as in the slide pseudocode, to find the outcome of the vote you can simply check whether the average of the class predictions is positive or negative."
   ]
  },
  {
   "cell_type": "code",
   "execution_count": 14,
   "metadata": {
    "id": "2428ddfb"
   },
   "outputs": [
    {
     "data": {
      "image/png": "[encoded data removed]",
      "text/plain": [
       "<Figure size 640x480 with 1 Axes>"
      ]
     },
     "metadata": {},
     "output_type": "display_data"
    }
   ],
   "source": [
    "def compute_error(models, X, y, B):\n",
    "    # Collect predictions from the first x models\n",
    "    predictions = np.zeros((B, len(X)))\n",
    "    \n",
    "    for i in range(B):\n",
    "        predictions[i] = models[i].predict(X)\n",
    "    \n",
    "    # Average predictions and take the sign to get final class predictions: +1 or -1\n",
    "    avg_predictions = np.mean(predictions, axis=0)\n",
    "    final_predictions = np.sign(avg_predictions)  # +1 for positive & -1 for negative\n",
    "    \n",
    "    # Compute error rate \\\n",
    "    error_rate = np.mean(final_predictions != y)\n",
    "    return error_rate\n",
    "\n",
    "\n",
    "error_rate_train = []\n",
    "error_rate_eval = []\n",
    "\n",
    "vals =[1, 5, 10, 25, 50]\n",
    "\n",
    "# loop through all models and compute train/eval error \n",
    "for v in vals: \n",
    "    train_error = compute_error(models, Xtr, Ytr, v)\n",
    "    val_error = compute_error(models, Xva, Yva, v)\n",
    "\n",
    "    error_rate_train.append(train_error)\n",
    "    error_rate_eval.append(val_error)\n",
    "\n",
    "# plot error as a function of the number of learners\n",
    "plt.plot(vals, error_rate_train, color='blue', label=\"Train Error\")\n",
    "plt.plot(vals, error_rate_eval, color='red', label='Validation Error')\n",
    "plt.xlabel(\"Number of Learners (B)\")\n",
    "plt.ylabel(\"Error Rate\")\n",
    "plt.title(\"Training and Validation Error vs. Number of Learners\")\n",
    "plt.legend();"
   ]
  },
  {
   "cell_type": "markdown",
   "metadata": {
    "id": "9d09a6bf"
   },
   "source": [
    "<div>\n",
    "    <img src=\"data:image/svg+xml,%3C%3Fxml%20version%3D%221.0%22%20encoding%3D%22UTF-8%22%20standalone%3D%22no%22%3F%3E%0A%3C%21DOCTYPE%20svg%20PUBLIC%20%22-//W3C//DTD%20SVG%201.1//EN%22%20%22http%3A//www.w3.org/Graphics/SVG/1.1/DTD/svg11.dtd%22%3E%0A%3Csvg%20stroke-miterlimit%3D%2210%22%20style%3D%22fill-rule%3Anonzero%3Bclip-rule%3Aevenodd%3Bstroke-linecap%3Around%3Bstroke-linejoin%3Around%3B%22%20version%3D%221.1%22%20viewBox%3D%220%200%20288%2072%22%20xml%3Aspace%3D%22preserve%22%20xmlns%3D%22http%3A//www.w3.org/2000/svg%22%20xmlns%3Axlink%3D%22http%3A//www.w3.org/1999/xlink%22%3E%0A%3Cdefs/%3E%0A%3Cg%20id%3D%22Layer-1%22%3E%0A%3Cpath%20d%3D%22M34.042%2035.8741C45.8469%2023.244%2031.1794%2022.6473%2024.2857%2024.1167C17.3921%2025.5861-0.960215%2033.2987%206.07817%2043.4256C13.1166%2053.5525%2023.0237%2056.9377%2052.2446%2053.4091C81.4656%2049.8804%2097.2436%2032.811%20122.962%2029.3111C148.681%2025.8112%20155.118%2039.4093%20155.118%2039.4093%22%20fill%3D%22none%22%20opacity%3D%221%22%20stroke%3D%22%23000000%22%20stroke-linecap%3D%22butt%22%20stroke-linejoin%3D%22round%22%20stroke-width%3D%223%22/%3E%0A%3Cpath%20d%3D%22M254.053%2040.6889C242.328%2053.1071%20256.999%2053.6247%20263.883%2052.1549C270.768%2050.685%20289.071%2043.0512%20281.969%2033.1691C274.868%2023.287%20264.94%2020.0179%20235.741%2023.6051C206.543%2027.1922%20190.872%2043.9744%20165.176%2047.5176C139.48%2051.0607%20132.957%2037.7776%20132.957%2037.7776%22%20fill%3D%22none%22%20opacity%3D%221%22%20stroke%3D%22%23000000%22%20stroke-linecap%3D%22butt%22%20stroke-linejoin%3D%22round%22%20stroke-width%3D%223%22/%3E%0A%3C/g%3E%0A%3C/svg%3E%0A\" width=\"200\"/>\n",
    "</div>"
   ]
  },
  {
   "cell_type": "markdown",
   "metadata": {},
   "source": [
    "## Problem 4: Shattering & VC Dimension\n",
    "\n",
    "Consider the following four \"datasets\", which have two real-valued features $x_1,x_2$:"
   ]
  },
  {
   "cell_type": "code",
   "execution_count": 25,
   "metadata": {},
   "outputs": [
    {
     "data": {
      "image/png": "[encoded data removed]",
      "text/plain": [
       "<Figure size 1200x300 with 4 Axes>"
      ]
     },
     "metadata": {},
     "output_type": "display_data"
    }
   ],
   "source": [
    "fig, axes = plt.subplots(1, 4, figsize=(12, 3))\n",
    "x = np.array([[2,2],[4,8],[6,3],[8,6]])\n",
    "for i in range(4): \n",
    "    axes[i].plot(x[:i+1,0],x[:i+1,1],'ro',ms=8); axes[i].axis([0,10,0,10]); axes[i].set_title(f'({i+1})')\n",
    "    axes[i].set_xticks(np.unique(x[:,0])); axes[i].set_yticks(np.unique(x[:,1])); "
   ]
  },
  {
   "cell_type": "markdown",
   "metadata": {},
   "source": [
    "(Note that no three of the four points are co-linear.)\n",
    "\n",
    "For each of the learners listed below, answer **(a)** which of the four data sets **can be shattered** by a learner of that form?  Give a brief explanation / justification (1-2 sentences). Then use your results to **(b)** guess the VC dimension of the classifier (you do not have to give a formal proof, just your reasoning).\n",
    "\n",
    "In each learner, the parameters $a,b,c,\\ldots$ are real-valued scalars, and $T[z]$ is the sign threshold function, i.e., $T[z]=+1$ for $z\\geq 0$ and $T[z] = -1$ for $z<0$."
   ]
  },
  {
   "cell_type": "markdown",
   "metadata": {},
   "source": [
    "* $T(\\ a + b \\ x_1 \\ )$"
   ]
  },
  {
   "cell_type": "markdown",
   "id": "8ebb943b",
   "metadata": {},
   "source": [
    "Form: represents a one dimensional linear boundry in the x1 space ignoring x2 \n",
    "\n",
    "(a) which data sets & why? \n",
    "\n",
    "1 - only one data point.\n",
    " \n",
    "2 - only relying on x1, we can shatter these 2 points \n",
    "\n",
    "3 & 4 cannot be shattered by this learner as it would also rely on x2 and this model cannot shatter based on x2 \n",
    "\n",
    "\n",
    "(b) VC dimension guess? 2 - counting the number of parameters, we have a constant a and also parameter b. "
   ]
  },
  {
   "cell_type": "markdown",
   "metadata": {},
   "source": [
    "* $T(\\ (a*b)\\ x_1 + (c/a) \\ x_2 \\ )$"
   ]
  },
  {
   "cell_type": "markdown",
   "id": "99621ada",
   "metadata": {},
   "source": [
    "Form: a general linear boundry in the x1/x2 space\n",
    "\n",
    "(a) which data sets & why? \n",
    "\n",
    "1 - only one data point which is easily shattered \n",
    "\n",
    "2 - linear boundry can seperate these 2 points \n",
    "\n",
    "3 - can seperate 3 non-colinear points \n",
    "\n",
    "cannot shatter 4 \n",
    "\n",
    "(b) VC dimension guess? 3 - we have the parameters a, b , and c. \n"
   ]
  },
  {
   "cell_type": "markdown",
   "metadata": {},
   "source": [
    "* $T(\\ (x_1-a)^2 + (x_2 -b)^2 - c \\ )$"
   ]
  },
  {
   "cell_type": "markdown",
   "id": "f8a3ab84",
   "metadata": {},
   "source": [
    "Form: a circular decision boundry with center at (a,b) and redius root c\n",
    "\n",
    "(a) which data sets & why?\n",
    "\n",
    "1 - one data point easily shattered \n",
    "\n",
    "2 - any 2 points can be seperated by a circle \n",
    "\n",
    "3 - 3 points can be either enclosed or excluded from the circle \n",
    "\n",
    "4 cannot be shattered \n",
    "\n",
    "(b) VC dimension guess? 3 - have paramters a, b, c. "
   ]
  },
  {
   "cell_type": "markdown",
   "metadata": {},
   "source": [
    "#### Extra Credit:\n",
    "* $T(\\ a + b\\,x_1 + c\\,x_2 \\ ) \\times T(\\ d + b\\,x_1 + c\\,x_2 \\ )$\n",
    "  - **Hint:** the two linear equations correspond to two parallel lines, since both have the same coefficients for $x_1$ and $x_2$.  Then, $T(z)\\times T(z') = +1$ if and only if $z$ and $z'$ have the same sign."
   ]
  },
  {
   "cell_type": "markdown",
   "id": "1eeb0084",
   "metadata": {},
   "source": [
    "From: 2 paralell lines  \n",
    "\n",
    "(a) which data sets & why? \n",
    "\n",
    "1 - easy \n",
    "\n",
    "2, 3, 4 - can be seperated by a parallel boundry \n",
    "\n",
    "(b) VC dimension guess? 4 - we have parameters a, b, c, d. \n",
    "\n"
   ]
  },
  {
   "cell_type": "markdown",
   "metadata": {
    "id": "9d09a6bf"
   },
   "source": [
    "<div>\n",
    "    <img src=\"data:image/svg+xml,%3C%3Fxml%20version%3D%221.0%22%20encoding%3D%22UTF-8%22%20standalone%3D%22no%22%3F%3E%0A%3C%21DOCTYPE%20svg%20PUBLIC%20%22-//W3C//DTD%20SVG%201.1//EN%22%20%22http%3A//www.w3.org/Graphics/SVG/1.1/DTD/svg11.dtd%22%3E%0A%3Csvg%20stroke-miterlimit%3D%2210%22%20style%3D%22fill-rule%3Anonzero%3Bclip-rule%3Aevenodd%3Bstroke-linecap%3Around%3Bstroke-linejoin%3Around%3B%22%20version%3D%221.1%22%20viewBox%3D%220%200%20288%2072%22%20xml%3Aspace%3D%22preserve%22%20xmlns%3D%22http%3A//www.w3.org/2000/svg%22%20xmlns%3Axlink%3D%22http%3A//www.w3.org/1999/xlink%22%3E%0A%3Cdefs/%3E%0A%3Cg%20id%3D%22Layer-1%22%3E%0A%3Cpath%20d%3D%22M34.042%2035.8741C45.8469%2023.244%2031.1794%2022.6473%2024.2857%2024.1167C17.3921%2025.5861-0.960215%2033.2987%206.07817%2043.4256C13.1166%2053.5525%2023.0237%2056.9377%2052.2446%2053.4091C81.4656%2049.8804%2097.2436%2032.811%20122.962%2029.3111C148.681%2025.8112%20155.118%2039.4093%20155.118%2039.4093%22%20fill%3D%22none%22%20opacity%3D%221%22%20stroke%3D%22%23000000%22%20stroke-linecap%3D%22butt%22%20stroke-linejoin%3D%22round%22%20stroke-width%3D%223%22/%3E%0A%3Cpath%20d%3D%22M254.053%2040.6889C242.328%2053.1071%20256.999%2053.6247%20263.883%2052.1549C270.768%2050.685%20289.071%2043.0512%20281.969%2033.1691C274.868%2023.287%20264.94%2020.0179%20235.741%2023.6051C206.543%2027.1922%20190.872%2043.9744%20165.176%2047.5176C139.48%2051.0607%20132.957%2037.7776%20132.957%2037.7776%22%20fill%3D%22none%22%20opacity%3D%221%22%20stroke%3D%22%23000000%22%20stroke-linecap%3D%22butt%22%20stroke-linejoin%3D%22round%22%20stroke-width%3D%223%22/%3E%0A%3C/g%3E%0A%3C/svg%3E%0A\" width=\"200\"/>\n",
    "</div>"
   ]
  },
  {
   "cell_type": "markdown",
   "metadata": {
    "id": "0cfad271"
   },
   "source": [
    "---\n",
    "### Statement of Collaboration (5 points)\n",
    "\n",
    "It is **mandatory** to include a Statement of Collaboration in each submission, with respect to the guidelines below. Include the names of everyone involved in the discussions (especially in-person ones), and what was discussed.\n",
    "\n",
    "All students are required to follow the academic honesty guidelines posted on the course website. For\n",
    "programming assignments, in particular, I encourage the students to organize (perhaps using EdD) to\n",
    "discuss the task descriptions, requirements, bugs in my code, and the relevant technical content before they start\n",
    "working on it. However, you should not discuss the specific solutions, and, as a guiding principle, you are not\n",
    "allowed to take anything written or drawn away from these discussions (i.e. no photographs of the blackboard,\n",
    "written notes, referring to EdD, etc.). Especially after you have started working on the assignment, try\n",
    "to restrict the discussion to EdD as much as possible, so that there is no doubt as to the extent of your\n",
    "collaboration."
   ]
  },
  {
   "cell_type": "markdown",
   "id": "1040fe04",
   "metadata": {},
   "source": [
    "i did not collaborate with anyone during the completion of this assignment. "
   ]
  }
 ],
 "metadata": {
  "colab": {
   "provenance": []
  },
  "hide_input": false,
  "kernelspec": {
   "display_name": "Python 3",
   "language": "python",
   "name": "python3"
  },
  "language_info": {
   "codemirror_mode": {
    "name": "ipython",
    "version": 3
   },
   "file_extension": ".py",
   "mimetype": "text/x-python",
   "name": "python",
   "nbconvert_exporter": "python",
   "pygments_lexer": "ipython3",
   "version": "3.12.6"
  },
  "toc": {
   "base_numbering": 1,
   "nav_menu": {},
   "number_sections": true,
   "sideBar": true,
   "skip_h1_title": false,
   "title_cell": "Table of Contents",
   "title_sidebar": "Contents",
   "toc_cell": false,
   "toc_position": {},
   "toc_section_display": true,
   "toc_window_display": false
  },
  "varInspector": {
   "cols": {
    "lenName": 16,
    "lenType": 16,
    "lenVar": 40
   },
   "kernels_config": {
    "python": {
     "delete_cmd_postfix": "",
     "delete_cmd_prefix": "del ",
     "library": "var_list.py",
     "varRefreshCmd": "print(var_dic_list())"
    },
    "r": {
     "delete_cmd_postfix": ") ",
     "delete_cmd_prefix": "rm(",
     "library": "var_list.r",
     "varRefreshCmd": "cat(var_dic_list()) "
    }
   },
   "types_to_exclude": [
    "module",
    "function",
    "builtin_function_or_method",
    "instance",
    "_Feature"
   ],
   "window_display": false
  }
 },
 "nbformat": 4,
 "nbformat_minor": 5
}
