{
 "cells": [
  {
   "cell_type": "markdown",
   "id": "8de626d6",
   "metadata": {
    "id": "43b7d466"
   },
   "source": [
    "# CS273A Homework 4 \n",
    "\n",
    "## Due: Monday November 4th, 2024 (11:59pm)"
   ]
  },
  {
   "cell_type": "markdown",
   "id": "b90a3017",
   "metadata": {
    "id": "a0921f03"
   },
   "source": [
    "---\n",
    "## Instructions\n",
    "\n",
    "\n",
    "This homework (and subsequent ones) will involve data analysis and reporting on methods and results\n",
    "using Python code. You will submit a **single PDF file** that contains everything to Gradescope. This includes any text you wish to include to describe your results, the complete code snippets of how you attempted each problem, any figures that were generated, and scans of any work on paper that you wish to include. It is important that you include enough detail that we know how you solved the problem, since otherwise we will be unable to grade it. \n",
    "\n",
    "Your homeworks will be given to you as Jupyter notebooks containing the problem descriptions and some template code that will help you get started. You are encouraged to use these starter Jupyter notebooks to complete your assignment and to write your report. This will help you not only ensure that all of the code for the solutions is included, but also will provide an easy way to export your results to a PDF file (for example, doing *print preview* and *printing to pdf*). I recommend liberal use of Markdown cells to create headers for each problem and sub-problem, explaining your implementation/answers, and including any mathematical equations. For parts of the homework you do on paper, scan it in such that it is legible (there are a number of free Android/iOS scanning apps, if you do not have access to a scanner), and include it as an image in the Jupyter notebook.\n",
    "\n",
    "**Double check that all of your answers are legible on Gradescope, e.g. make sure any text you have written does not get cut off.**\n",
    "\n",
    "If you have any questions/concerns about using Jupyter notebooks, ask us on EdD. If you decide not to use Jupyter notebooks, but go with Microsoft Word or LaTeX to create your PDF file, make sure that all of the answers can be generated from the code snippets included in the document.\n",
    "### Summary of Assignment: 100 total points\n",
    "- Problem 1: A Small Neural Network (30 points)\n",
    "    - Problem 1.1: Forward Pass (10 points)\n",
    "    - Problem 1.2: Evaluate Loss (10 points)\n",
    "    - Problem 1.3: Network Size (10 points)\n",
    "- Problem 2: Neural Networks on MNIST (35 points)\n",
    "    - Problem 2.1: Varying the Amount of Training Data (15 points)\n",
    "    - Problem 2.3: Optimization Curves (10 points)\n",
    "    - Problem 2.3: Tuning your Neural Network (10 points)\n",
    "- Problem 3: Convolutional Networks (30 points)\n",
    "    - Problem 3.1: Model structure (10 points)\n",
    "    - Problem 3.2: Training (10 points)\n",
    "    - Problem 3.3: Evaluation (5 points)\n",
    "    - Problem 3.4: Comparing predictions (5 points)\n",
    "- Statement of Collaboration (5 points)"
   ]
  },
  {
   "cell_type": "markdown",
   "id": "cb7c4e73",
   "metadata": {
    "id": "648cdb14"
   },
   "source": [
    "Before we get started, let's import some libraries that you will make use of in this assignment. Make sure that you run the code cell below in order to import these libraries.\n",
    "\n",
    "**Important: In the code block below, we set `seed=1234`. This is to ensure your code has reproducible results and is important for grading. Do not change this. If you are not using the provided Jupyter notebook, make sure to also set the random seed as below.**\n",
    "\n",
    "**Important: Do not change any codes we give you below, except for those waiting for you to complete. This is to ensure your code has reproducible results and is important for grading.**"
   ]
  },
  {
   "cell_type": "code",
   "execution_count": 10,
   "id": "341bd51c",
   "metadata": {
    "colab": {
     "base_uri": "https://localhost:8080/"
    },
    "id": "f788ad34",
    "outputId": "e6f1442e-c54d-4eaf-b2e3-90ca864d2d3f"
   },
   "outputs": [],
   "source": [
    "import numpy as np\n",
    "import matplotlib.pyplot as plt\n",
    "\n",
    "import torch\n",
    "\n",
    "from IPython import display\n",
    "\n",
    "from sklearn.datasets import fetch_openml            # common data set access\n",
    "from sklearn.preprocessing import StandardScaler     # scaling transform\n",
    "from sklearn.model_selection import train_test_split # validation tools\n",
    "from sklearn.metrics import accuracy_score\n",
    "\n",
    "from sklearn.neural_network import MLPClassifier     # scikit's MLP\n",
    "\n",
    "import warnings\n",
    "warnings.filterwarnings('ignore')\n",
    "\n",
    "# Fix the random seed for reproducibility\n",
    "# !! Important !! : do not change this\n",
    "seed = 1234\n",
    "np.random.seed(seed)  \n",
    "torch.manual_seed(seed);"
   ]
  },
  {
   "cell_type": "markdown",
   "id": "8f8ea791",
   "metadata": {},
   "source": [
    "---\n",
    "## Problem 1: A Small Neural Network\n",
    "\n",
    "\n",
    "Consider the small neural network given in the image below, which will classify a 3-dimensional feature vector $\\mathbf{x}$ into one of three classes ($y = 0, 1, 2$):"
   ]
  },
  {
   "cell_type": "markdown",
   "id": "97d87210",
   "metadata": {},
   "source": [
    "You are given an input to this network $\\mathbf{x}$, \n",
    "$$\n",
    "\\mathbf{x} = \\begin{bmatrix} x_1 & x_2 & x_3 \\end{bmatrix} = \\begin{bmatrix} 1 & 3 & -2 \\end{bmatrix}\n",
    "$$\n",
    "as well as weights $W$ for the hidden layer and weights $B$ for the output layer. \n",
    "\n",
    "$$\n",
    "W = \\begin{bmatrix} \n",
    "    w_{01} & w_{11} & w_{21} & w_{31} \\\\ \n",
    "    w_{02} & w_{12} & w_{22} & w_{32} \\\\\n",
    "    \\end{bmatrix} =\n",
    "    \\begin{bmatrix} \n",
    "    1 & -1 & 0 & 5 \\\\ \n",
    "    2 & 1 & 1 & 2 \\\\\n",
    "    \\end{bmatrix}\n",
    "$$\n",
    "\n",
    "$$\n",
    "B = \\begin{bmatrix} \n",
    "    \\beta_{01} & \\beta_{11} & \\beta_{21} \\\\\n",
    "    \\beta_{02} & \\beta_{12} & \\beta_{22} \\\\\n",
    "    \\beta_{03} & \\beta_{13} & \\beta_{23} \\\\\n",
    "    \\end{bmatrix} =\n",
    "    \\begin{bmatrix}\n",
    "    4 & -1 & 0 \\\\\n",
    "    3 & 0 & 2 \\\\\n",
    "    2 & 1 & 1\n",
    "    \\end{bmatrix}\n",
    "$$\n",
    "\n",
    "For example, $w_{12}$ is the weight connecting input $x_1$ to hidden node $h_2$; $w_{01}$ is the constant (bias) term for $h_1$, etc.\n",
    "\n",
    "This network uses the ReLU activation function for the hidden layer, and uses the softmax activation function for the output layer. "
   ]
  },
  {
   "cell_type": "markdown",
   "id": "99fc4354",
   "metadata": {},
   "source": [
    "Answer the following questions about this network.\n",
    "\n",
    "### Problem 1.1 (10 points): Forward Pass\n",
    "- Given the inputs and weights above, compute the values of the hidden units $h_1, h_2$ and the outputs $f_0, f_1, f_2$. You should do this by hand, i.e. you should not write any code to do the calculation, but feel free to use a calculator to help you do the computations.\n",
    "- You can optionally use $\\LaTeX$ in your answer on the Jupyter notebook. Otherwise, write your answer on paper and include a picture of your answer in this notebook. In order to include an image in Jupyter notebook, save the image in the same directory as the .ipynb file and then write `![caption](image.png)`. Alternatively, you may go to Edit --> Insert Image at the top menu to insert an image into a Markdown cell. **Double check that your image is visible in your PDF submission.**\n",
    "- What class would the network predict for the input $\\mathbf{x}$?"
   ]
  },
  {
   "cell_type": "markdown",
   "id": "ff0a1934",
   "metadata": {},
   "source": [
    "![](IMG_0380.jpg)\n",
    "![](IMG_0381.jpg)"
   ]
  },
  {
   "cell_type": "markdown",
   "id": "0403c798",
   "metadata": {},
   "source": [
    "### Problem 1.2 (10 points): Evaluate Loss\n",
    "Typically when we train neural networks for classification, we seek to minimize the log-loss function. Note that the output of the log-loss function is always nonnegative ($\\geq 0$), but can be arbitrarily large (you should pause for a second and make sure you understand why this is true).\n",
    "\n",
    "- Suppose the true label for the input $\\mathbf{x}$ is $y = 1$. What would be the value of our loss function based on the network's prediction for $\\mathbf{x}$?\n",
    "- Suppose instead that the true label for the input $\\mathbf{x}$ is $y = 2$. What would be the value of our loss function based on the network's prediction for $\\mathbf{x}$?\n",
    "\n",
    "You are free to use numpy / Python to help you calculate this, but don't use any neural network libraries that will automatically calculate the loss for you."
   ]
  },
  {
   "cell_type": "code",
   "execution_count": 40,
   "id": "fa9fbc47",
   "metadata": {
    "scrolled": true
   },
   "outputs": [
    {
     "name": "stdout",
     "output_type": "stream",
     "text": [
      "softmax [0.0452785 0.909443  0.0452785]\n",
      "Log loss for y = 1: 0.09492295642096098\n",
      "Log loss for y = 2: 3.094922956420961\n"
     ]
    }
   ],
   "source": [
    "# here are the f values \n",
    "f = [4, 7, 4]\n",
    "\n",
    "# compute softmax \n",
    "exps = np.exp(f)\n",
    "Z = np.sum(exps)\n",
    "soft_max = exps / Z\n",
    "\n",
    "# these are the \"true\" y values \n",
    "y1 = 1\n",
    "y2 = 2\n",
    "\n",
    "# now calculate the log loss \n",
    "loss_y1 = -np.log(soft_max[y1])\n",
    "loss_y2 = -np.log(soft_max[y2])\n",
    "\n",
    "print(f\"softmax {soft_max}\")\n",
    "print(f\"Log loss for y = 1: {loss_y1}\")\n",
    "print(f\"Log loss for y = 2: {loss_y2}\")\n",
    "\n",
    "\n"
   ]
  },
  {
   "cell_type": "markdown",
   "id": "506e895b",
   "metadata": {},
   "source": [
    "### Problem 1.3 (10 points): Network Size\n",
    "- Suppose we change our network so that there are $12$ hidden nodes instead of $2$. How many total parameters (weights and biases) are in our new network?"
   ]
  },
  {
   "cell_type": "markdown",
   "id": "c3b0039f",
   "metadata": {},
   "source": [
    "\n",
    "from input layer to hidden layer: \n",
    "2 nodes = 6 weights = 3 weights / node so 3 * 12 = 36 weights plus 12 constants (bias) so 36 + 12 = 48\n",
    "\n",
    "from hidden layer to output layer: \n",
    "hidden nodes = 12 * number of outputs = 3 so 12 * 3 = 36 weights plus 3 constant (bias) so 36 + 3 = 39 \n",
    "\n",
    "48 + 39 = 87 total parameters in the network"
   ]
  },
  {
   "cell_type": "markdown",
   "id": "cf3adee3",
   "metadata": {},
   "source": [
    "<div>\n",
    "    <img src=\"data:image/svg+xml,%3C%3Fxml%20version%3D%221.0%22%20encoding%3D%22UTF-8%22%20standalone%3D%22no%22%3F%3E%0A%3C%21DOCTYPE%20svg%20PUBLIC%20%22-//W3C//DTD%20SVG%201.1//EN%22%20%22http%3A//www.w3.org/Graphics/SVG/1.1/DTD/svg11.dtd%22%3E%0A%3Csvg%20stroke-miterlimit%3D%2210%22%20style%3D%22fill-rule%3Anonzero%3Bclip-rule%3Aevenodd%3Bstroke-linecap%3Around%3Bstroke-linejoin%3Around%3B%22%20version%3D%221.1%22%20viewBox%3D%220%200%20288%2072%22%20xml%3Aspace%3D%22preserve%22%20xmlns%3D%22http%3A//www.w3.org/2000/svg%22%20xmlns%3Axlink%3D%22http%3A//www.w3.org/1999/xlink%22%3E%0A%3Cdefs/%3E%0A%3Cg%20id%3D%22Layer-1%22%3E%0A%3Cpath%20d%3D%22M34.042%2035.8741C45.8469%2023.244%2031.1794%2022.6473%2024.2857%2024.1167C17.3921%2025.5861-0.960215%2033.2987%206.07817%2043.4256C13.1166%2053.5525%2023.0237%2056.9377%2052.2446%2053.4091C81.4656%2049.8804%2097.2436%2032.811%20122.962%2029.3111C148.681%2025.8112%20155.118%2039.4093%20155.118%2039.4093%22%20fill%3D%22none%22%20opacity%3D%221%22%20stroke%3D%22%23000000%22%20stroke-linecap%3D%22butt%22%20stroke-linejoin%3D%22round%22%20stroke-width%3D%223%22/%3E%0A%3Cpath%20d%3D%22M254.053%2040.6889C242.328%2053.1071%20256.999%2053.6247%20263.883%2052.1549C270.768%2050.685%20289.071%2043.0512%20281.969%2033.1691C274.868%2023.287%20264.94%2020.0179%20235.741%2023.6051C206.543%2027.1922%20190.872%2043.9744%20165.176%2047.5176C139.48%2051.0607%20132.957%2037.7776%20132.957%2037.7776%22%20fill%3D%22none%22%20opacity%3D%221%22%20stroke%3D%22%23000000%22%20stroke-linecap%3D%22butt%22%20stroke-linejoin%3D%22round%22%20stroke-width%3D%223%22/%3E%0A%3C/g%3E%0A%3C/svg%3E%0A\" width=\"200\"/>\n",
    "</div>"
   ]
  },
  {
   "cell_type": "markdown",
   "id": "833a6e61",
   "metadata": {},
   "source": [
    "## Problem 2: Neural Networks on MNIST\n",
    "\n",
    "In this part of the assignment, you will get some hands-on experience working with neural networks. We will be using the scikit-learn implementation of a multi-layer perceptron (MLP). See [here](https://scikit-learn.org/stable/modules/generated/sklearn.neural_network.MLPClassifier.html) for the corresponding documentation. Although there are specialized Python libraries for neural networks, like [TensorFlow](https://www.tensorflow.org/) and [PyTorch](https://pytorch.org/), in this problem we'll just use scikit-learn since you're already familiar with it."
   ]
  },
  {
   "cell_type": "markdown",
   "id": "1450ad37",
   "metadata": {},
   "source": [
    "### Problem 2.0: Setting up the Data\n",
    "First, we'll load our MNIST dataset and split it into a training set and a testing set. Here you are given code that does this for you, and you only need to run it.\n",
    "\n",
    "We will use the scikit-learn class `StandardScaler` to standardize both the training and testing features. Notice that we **only** fit the `StandardScaler` on the training data, and *not* the testing data."
   ]
  },
  {
   "cell_type": "code",
   "execution_count": 11,
   "id": "05268bd6",
   "metadata": {},
   "outputs": [],
   "source": [
    "# Load the features and labels for the MNIST dataset\n",
    "# This might take a minute to download the images.\n",
    "X, y = fetch_openml('mnist_784', as_frame=False, return_X_y=True)\n",
    "\n",
    "# Convert labels to integer data type\n",
    "y = y.astype(int)"
   ]
  },
  {
   "cell_type": "code",
   "execution_count": 12,
   "id": "a46b5883",
   "metadata": {},
   "outputs": [],
   "source": [
    "X_tr, X_te, y_tr, y_te = train_test_split(X, y, test_size=0.1, random_state=seed, shuffle=True)"
   ]
  },
  {
   "cell_type": "code",
   "execution_count": 13,
   "id": "1719a393",
   "metadata": {},
   "outputs": [],
   "source": [
    "scaler = StandardScaler()\n",
    "scaler.fit(X_tr)\n",
    "X_tr = scaler.transform(X_tr)     # We can forget about the original values & work\n",
    "X_te = scaler.transform(X_te)     #  just with the transformed values from here"
   ]
  },
  {
   "cell_type": "markdown",
   "id": "a55a4b66",
   "metadata": {},
   "source": [
    "### Problem 2.1: Varying the amount of training data (15 points)\n",
    "One reason that neural networks have become popular in recent years is that, for many problems, we now have access to very large datasets. Since neural networks are very flexible models, they are often able to take advantage of these large datasets in order to achieve high levels of accuracy. In this problem, you will vary the amount of training data available to a neural network and see what effect this has on the model's performance.\n",
    "\n",
    "In this problem, you should use the following settings for your network:\n",
    "- A single hidden layer with $64$ hidden nodes\n",
    "- Use the ReLU activation function\n",
    "- Train the network using stochastic gradient descent (SGD) and a constant learning rate of $0.001$\n",
    "- Use a batch size of 256\n",
    "- **Make sure to set `random_state=seed`.**\n",
    "\n",
    "Your task is to implement the following:\n",
    "- Train an MLP model (with the above hyperparameter settings) using the first `m_tr` feature vectors in `X_tr`, where `m_tr = [100, 1000, 5000, 10000, 20000, 50000, 63000]`. You should use the `MLPClassifier` class from scikit-learn in your implementation.\n",
    "- Create a plot of the training error and testing error for your MLP model as a function of the number of training data points.  For comparison, also plot the training and test error rates we found when we trained a logistic regression model on MNIST (these values are provided below). Again, be sure to include an x-label, y-label, and legend in your plot and use a log-scale on the x-axis.\n",
    "- Give a short (one or two sentences) description of what you see in your plot.   Do you think that more data (beyond these 63000 examples) would continue to improve the model's performance?\n",
    "\n",
    "**Note** that training a neural network with a lot of data can be **a slow process**. Hence, you should be careful to implement your code such that it runs in a reasonable amount of time. One recommendation is to test your code using only a small subset of the given `m_tr` values, and only run your code with the larger values of `m_tr` once you are certain your code is working. (For reference, it took about 20 minutes to train all models on a quad-core desktop with no GPU.)"
   ]
  },
  {
   "cell_type": "code",
   "execution_count": 22,
   "id": "6e5703ae",
   "metadata": {},
   "outputs": [
    {
     "name": "stdout",
     "output_type": "stream",
     "text": [
      "error train: 0.0\n",
      "error test: 0.4072857142857143\n",
      "error train: 0.019\n",
      "error test: 0.16071428571428573\n",
      "error train: 0.0146\n",
      "error test: 0.08914285714285715\n",
      "error train: 0.0116\n",
      "error test: 0.06814285714285714\n",
      "error train: 0.00925\n",
      "error test: 0.05085714285714286\n",
      "error train: 0.0073\n",
      "error test: 0.03528571428571429\n",
      "error train: 0.007238095238095238\n",
      "error test: 0.03257142857142857\n"
     ]
    }
   ],
   "source": [
    "#import time         # helpful if you want to track execution time\n",
    "#tic = time.time()\n",
    "\n",
    "train_sizes = [100, 1000, 5000, 10000, 20000, 50000, 63000]\n",
    "\n",
    "tr_err_mlp = []\n",
    "te_err_mlp = []\n",
    "\n",
    "for m_tr in train_sizes:\n",
    "    ### YOUR CODE STARTS HERE\n",
    "\n",
    "    X_train_subset = X_tr[:m_tr]  \n",
    "    y_train_subset = y_tr[:m_tr]\n",
    "\n",
    "    # first define the MLP \n",
    "    model = MLPClassifier(hidden_layer_sizes=(64,), activation='relu', solver='sgd', alpha=0.001, batch_size=256, random_state=seed)\n",
    "\n",
    "    # now we want to fit it to the subset of train data \n",
    "    model.fit(X_train_subset, y_train_subset)\n",
    "\n",
    "    # then we can predict on subset of train data and test data \n",
    "    y_pred_train = model.predict(X_train_subset)\n",
    "    y_pred_test = model.predict(X_te)\n",
    "\n",
    "    # then compute the error\n",
    "    error_rate_train = np.mean(y_train_subset != y_pred_train)\n",
    "    error_rate_test = np.mean(y_te != y_pred_test)\n",
    "\n",
    "    print(f\"error train: {error_rate_train}\")\n",
    "    print(f\"error test: {error_rate_test}\")\n",
    "\n",
    "    # add to corresponding arrays - used to plot later \n",
    "    tr_err_mlp.append(error_rate_train)\n",
    "    te_err_mlp.append(error_rate_test)\n",
    "\n",
    "    # print(f'Total elapsed time: {time.time()-tic}')\n",
    "    \n",
    "    ### YOUR CODE ENDS HERE"
   ]
  },
  {
   "cell_type": "code",
   "execution_count": 9,
   "id": "0ce54275",
   "metadata": {},
   "outputs": [],
   "source": [
    "# When plotting, use these (rounded) values from the similar logistic regression problem solution:\n",
    "tr_err_lr = np.array([0.   , 0.   , 0.   , 0.   , 0.024, 0.053, 0.057])\n",
    "te_err_lr = np.array([0.318, 0.149, 0.142, 0.137, 0.119, 0.087, 0.083])"
   ]
  },
  {
   "cell_type": "code",
   "execution_count": 23,
   "id": "7be77843",
   "metadata": {},
   "outputs": [
    {
     "data": {
      "image/png": "[encoded data removed]",
      "text/plain": [
       "<Figure size 640x480 with 1 Axes>"
      ]
     },
     "metadata": {},
     "output_type": "display_data"
    }
   ],
   "source": [
    "## YOUR CODE HERE (PLOTTING)\n",
    "\n",
    "plt.semilogx(tr_err_lr, color='blue', label='Logistic Train')\n",
    "plt.semilogx(te_err_lr, color='red', label='Logistic Test')\n",
    "plt.semilogx(tr_err_mlp, color='green', label='MLP Train')\n",
    "plt.semilogx(te_err_mlp, color='black', label='MLP Test')\n",
    "\n",
    "plt.ylabel(\"Error\")\n",
    "plt.xlabel(\"Training Data Size\")\n",
    "plt.title(\"Comparing Logistic vs. MPL Error on Various Training Data Sizes\")\n",
    "\n",
    "plt.legend(); "
   ]
  },
  {
   "cell_type": "markdown",
   "id": "c913e69b",
   "metadata": {},
   "source": [
    "in this plot we can see that in both Logistic Regression and MLP, both training and test error start to become closer together as the training data size increases. but there is a larger error gap when using logistic regression as compared to MLP. it should also be noted that when using MLP, train error remains constant for all data sizes. With more data, i think the gap in train and test error would difinetly reduce as when we have more training data, the model would be able to generalize better as it has more examples to go off of. "
   ]
  },
  {
   "cell_type": "markdown",
   "id": "94620cad",
   "metadata": {},
   "source": [
    "---\n",
    "### Problem 2.2: Optimization Curves (10 points)\n",
    "\n",
    "One hyperparameter that can have a significant effect on the optimization of your model, and thus its performance, is the learning rate, which controls the step size in (stochastic) gradient descent. In this problem you will vary the learning rate to see what effect this has on how quickly training converges as well as the effect on the performance of your model.\n",
    "\n",
    "In this problem, you should use the following settings for your network:\n",
    "- A single hidden layer with $64$ hidden nodes\n",
    "- Use the ReLU activation function\n",
    "- Train the network using stochastic gradient descent (SGD)\n",
    "- Use a batch size of 256\n",
    "- Set `n_iter_no_change=100` and `max_iter=100`. This ensures that all of your networks in this problem will train for 100 epochs (an *epoch* is one full pass over the training data).\n",
    "- Make sure to set `random_state=seed`.\n",
    "\n",
    "Your task is to:\n",
    "- Train a neural network with the above settings, but vary the learning rate in `lr = [0.0005, 0.001, 0.005, 0.01]`.\n",
    "- Create a plot showing the training loss as a function of the training epoch (i.e. the x-axis corresponds to training iterations) for each learning rate above. You should have a single plot with four curves. Make sure to include an x-label, a y-label, and a legend in your plot. (Hint: `MLPClassifier` has an attribute `loss_curve_` that you likely find useful.)\n",
    "- Include a short description of what you see in your plot."
   ]
  },
  {
   "cell_type": "markdown",
   "id": "953e2626",
   "metadata": {},
   "source": [
    "**Important: To make your code run faster, you should train all of your networks in this problem on only the first 10,000 images of `X_tr`**. In the following cell, you are provided a few lines of code that will create a small training set (with the first 10,000 images in `X_tr`) and a validation set (with the second 10,000 images in `X_tr`). You will use the validation later in Problem 3.3. "
   ]
  },
  {
   "cell_type": "code",
   "execution_count": null,
   "id": "3924184e",
   "metadata": {},
   "outputs": [],
   "source": [
    "# Create a smaller training set with the first 10,000 images in X_tr\n",
    "#   along with a validation set from images 10,000 - 20,000 in X_tr\n",
    "\n",
    "X_val = X_tr[10000:20000] # Validation set\n",
    "y_val = y_tr[10000:20000]\n",
    "\n",
    "X_tr = X_tr[:10000]       # From here on, we will only use these smaller sets,\n",
    "y_tr = y_tr[:10000]       #  so it's OK to discard the rest of the data"
   ]
  },
  {
   "cell_type": "code",
   "execution_count": 33,
   "id": "b502f101",
   "metadata": {},
   "outputs": [
    {
     "name": "stdout",
     "output_type": "stream",
     "text": [
      "Loss for learning rate 0.0005: [np.float64(1.1319116602105341), np.float64(0.4981253384960117), np.float64(0.3846889851206363), np.float64(0.33042630414570384), np.float64(0.2968687935555659), np.float64(0.27335595970397636), np.float64(0.2553804315302129), np.float64(0.24100119212349488), np.float64(0.22897571137525635), np.float64(0.218757707840495), np.float64(0.20992019583516303), np.float64(0.20213241502307647), np.float64(0.19515425513618195), np.float64(0.18885480412171507), np.float64(0.1831568245281142), np.float64(0.1778567636833961), np.float64(0.1729889120964901), np.float64(0.16850828119540193), np.float64(0.1642990947598397), np.float64(0.16039828263189745), np.float64(0.15676604803902375), np.float64(0.15324215309940128), np.float64(0.15000045993116634), np.float64(0.14689758583488668), np.float64(0.1439444905003558), np.float64(0.14117314297046), np.float64(0.13849007901799668), np.float64(0.1359538212620022), np.float64(0.1335552350566344), np.float64(0.13125015692626266), np.float64(0.12903701364899656), np.float64(0.12688815822847838), np.float64(0.12487536751898945), np.float64(0.12287968669612954), np.float64(0.1210176552051459), np.float64(0.11913037131968335), np.float64(0.11741930279643724), np.float64(0.11570787976296643), np.float64(0.11407316485154463), np.float64(0.11251740890145578), np.float64(0.11093169653938055), np.float64(0.10940347525045412), np.float64(0.10799542489958647), np.float64(0.10654609800102588), np.float64(0.1051617223400747), np.float64(0.103820899395369), np.float64(0.10249983951939065), np.float64(0.10121419905934519), np.float64(0.10001329633525165), np.float64(0.098788608770161), np.float64(0.09758191787574212), np.float64(0.09642633178166242), np.float64(0.09527541581181247), np.float64(0.0941573266437733), np.float64(0.09310203715349429), np.float64(0.09204699150974979), np.float64(0.09099268534671731), np.float64(0.0899920458479144), np.float64(0.08896109595130242), np.float64(0.08802544289939493), np.float64(0.08706464685754402), np.float64(0.0861322478752121), np.float64(0.0852339978208765), np.float64(0.08436490036148063), np.float64(0.08346790411451323), np.float64(0.0826048874430729), np.float64(0.08178188614909869), np.float64(0.08094726501754838), np.float64(0.08012749798979704), np.float64(0.07932335500870999), np.float64(0.0785389944258238), np.float64(0.07777587223012057), np.float64(0.0770258211610345), np.float64(0.07627978320497367), np.float64(0.07558561681142253), np.float64(0.07485203962649052), np.float64(0.07414320620579566), np.float64(0.07346031407218881), np.float64(0.07277435631143056), np.float64(0.07210355881307398), np.float64(0.0714349490624847), np.float64(0.07077857672025968), np.float64(0.07017261550811074), np.float64(0.06951748673827558), np.float64(0.06891366760108592), np.float64(0.06831639821593383), np.float64(0.06770105934075371), np.float64(0.06713028156323009), np.float64(0.06654398052671325), np.float64(0.06597943975609903), np.float64(0.06541008305985783), np.float64(0.06487240649215406), np.float64(0.06433762980755625), np.float64(0.06378973361503977), np.float64(0.06326049784241529), np.float64(0.06272284023774512), np.float64(0.06224421055645289), np.float64(0.0617170929344302), np.float64(0.06123176063606523), np.float64(0.06073533265337901)]\n",
      "Loss for learning rate 0.001: [np.float64(1.1320467587900667), np.float64(0.4982642990856205), np.float64(0.38482973987726815), np.float64(0.3305685734332626), np.float64(0.2970120299599596), np.float64(0.2735005614511465), np.float64(0.25552605812381335), np.float64(0.24114862547398885), np.float64(0.22912273117544568), np.float64(0.21890638550620206), np.float64(0.2100693597408008), np.float64(0.20228374997471324), np.float64(0.19530698572535396), np.float64(0.18900851633135796), np.float64(0.183312019951462), np.float64(0.17801322819084292), np.float64(0.1731471136411055), np.float64(0.1686665137973442), np.float64(0.16445803524805278), np.float64(0.16055806549552476), np.float64(0.15692478112271213), np.float64(0.15340185133752177), np.float64(0.15015972177574), np.float64(0.14705784302452773), np.float64(0.1441046830368615), np.float64(0.14133486592553487), np.float64(0.1386530485378397), np.float64(0.13611660345146886), np.float64(0.13371978368831208), np.float64(0.1314157831003986), np.float64(0.12920354623198038), np.float64(0.12705558549117452), np.float64(0.12504371011421164), np.float64(0.12304977069206278), np.float64(0.12118792654127387), np.float64(0.11930082541787627), np.float64(0.11759070806950761), np.float64(0.1158809785159133), np.float64(0.11424719363456817), np.float64(0.11269119192428256), np.float64(0.11110453250381298), np.float64(0.10957752925196955), np.float64(0.10817006256113473), np.float64(0.10672158589081414), np.float64(0.10533629714791148), np.float64(0.10399700311633951), np.float64(0.10267625325239432), np.float64(0.10138991506323748), np.float64(0.10019030412898289), np.float64(0.09896633633406123), np.float64(0.0977590101579925), np.float64(0.09660485587821611), np.float64(0.09545425945947121), np.float64(0.09433711686777367), np.float64(0.09328100704932382), np.float64(0.0922269837668264), np.float64(0.0911730297289953), np.float64(0.09017133384421211), np.float64(0.08914132372047738), np.float64(0.08820563466007769), np.float64(0.08724479920691716), np.float64(0.08631450582678384), np.float64(0.08541740499624216), np.float64(0.08454902522864492), np.float64(0.08365226568075539), np.float64(0.08278897088204164), np.float64(0.08196601518091569), np.float64(0.0811314505023589), np.float64(0.08031288705081059), np.float64(0.07950848216790202), np.float64(0.078725222046213), np.float64(0.07796145817159683), np.float64(0.0772116185990828), np.float64(0.07646569724559192), np.float64(0.07577292584673347), np.float64(0.0750409895305159), np.float64(0.07433196341453731), np.float64(0.07364977659544338), np.float64(0.07296490136660234), np.float64(0.0722937281741029), np.float64(0.07162612684279472), np.float64(0.07097039945875497), np.float64(0.07036493808045952), np.float64(0.06971147862131473), np.float64(0.06910718859809435), np.float64(0.06851099814339537), np.float64(0.0678975147037035), np.float64(0.06732647807877487), np.float64(0.06674142366048191), np.float64(0.06617772020608806), np.float64(0.06560934123862258), np.float64(0.06507178829593029), np.float64(0.06453891800933047), np.float64(0.06399018577786995), np.float64(0.06346379574730135), np.float64(0.06292727162855792), np.float64(0.06244863988913582), np.float64(0.0619208482038112), np.float64(0.06143614793291052), np.float64(0.060940837463939294)]\n",
      "Loss for learning rate 0.005: [np.float64(1.1331264066348397), np.float64(0.49937390084355976), np.float64(0.3859595978776441), np.float64(0.3317144930533034), np.float64(0.29817214786130936), np.float64(0.2746703438312882), np.float64(0.25670589822243767), np.float64(0.242337492049041), np.float64(0.23032044564988963), np.float64(0.22011373274440077), np.float64(0.2112845506840445), np.float64(0.20350517997088963), np.float64(0.1965338967144339), np.float64(0.1902429873120928), np.float64(0.18455204589373447), np.float64(0.17925933531744073), np.float64(0.17440042119775387), np.float64(0.1699280683720332), np.float64(0.1657279909712713), np.float64(0.16183289892076622), np.float64(0.15820875786872812), np.float64(0.1546908389178951), np.float64(0.15145470504695227), np.float64(0.14835974008508798), np.float64(0.14541384420357586), np.float64(0.1426505128411941), np.float64(0.13997618264912148), np.float64(0.13744847616544534), np.float64(0.13505715497602092), np.float64(0.13275926039647687), np.float64(0.13055255762451246), np.float64(0.1284105185248832), np.float64(0.12640369853146358), np.float64(0.12441382461865905), np.float64(0.12255752359785217), np.float64(0.12067674842843171), np.float64(0.1189721995100135), np.float64(0.11726599596208781), np.float64(0.11563700586131538), np.float64(0.11408723364946113), np.float64(0.11250721517598332), np.float64(0.11098325609614282), np.float64(0.1095799769507316), np.float64(0.1081365767257025), np.float64(0.10675647775846236), np.float64(0.10542170331471955), np.float64(0.10410573936749833), np.float64(0.10282538793193287), np.float64(0.10163120742790609), np.float64(0.10041080761679264), np.float64(0.09920948199460937), np.float64(0.09806018448360257), np.float64(0.09691485810987331), np.float64(0.09580232585010652), np.float64(0.09475273672793356), np.float64(0.093702974471678), np.float64(0.09265389299221825), np.float64(0.09165737304505542), np.float64(0.09063197526462763), np.float64(0.08970119571724987), np.float64(0.08874802893571279), np.float64(0.08782106893390425), np.float64(0.08692751674996323), np.float64(0.08606319189308505), np.float64(0.0851709799204341), np.float64(0.08431249961686156), np.float64(0.08349378615694641), np.float64(0.08266262216245161), np.float64(0.08184772078054955), np.float64(0.08104634947305084), np.float64(0.08026822828363421), np.float64(0.07950963351824442), np.float64(0.07876410344489645), np.float64(0.07802221348479495), np.float64(0.0773341822668299), np.float64(0.0766066008134566), np.float64(0.07590230936558338), np.float64(0.07522587130219192), np.float64(0.07454457148333173), np.float64(0.07387755608111653), np.float64(0.07321316128168949), np.float64(0.07256213512191087), np.float64(0.0719612037072372), np.float64(0.07131078610623992), np.float64(0.07070977065320577), np.float64(0.07011767339251226), np.float64(0.06950851997154306), np.float64(0.06894212710584363), np.float64(0.06836134954743912), np.float64(0.06780188666118389), np.float64(0.06723836939112192), np.float64(0.0667042870204017), np.float64(0.06617598407219057), np.float64(0.065631307687321), np.float64(0.06510833398006778), np.float64(0.06457513649161017), np.float64(0.06410109229330352), np.float64(0.06357773771339584), np.float64(0.06309717624712381), np.float64(0.06260446302872152)]\n",
      "Loss for learning rate 0.01: [np.float64(1.1344774213843003), np.float64(0.5007642923742742), np.float64(0.3873727820759205), np.float64(0.3331454718445289), np.float64(0.2996163096765967), np.float64(0.27612937337488813), np.float64(0.25817655847673115), np.float64(0.24382042901484519), np.float64(0.2318160863760869), np.float64(0.22162057911792224), np.float64(0.2128011491416465), np.float64(0.20503479257122226), np.float64(0.1980728094814683), np.float64(0.19179008818355864), np.float64(0.18610727046876013), np.float64(0.18082253769121), np.float64(0.1759707211630195), np.float64(0.17150472200337122), np.float64(0.16731128510266324), np.float64(0.16342533713223242), np.float64(0.15980885157444108), np.float64(0.1562993489430612), np.float64(0.15307100094833642), np.float64(0.14998243378021936), np.float64(0.14704310032239995), np.float64(0.1442876671282145), np.float64(0.1416208001701822), np.float64(0.13909924038768726), np.float64(0.13671455557793982), np.float64(0.13442225616389794), np.float64(0.13222263651962837), np.float64(0.1300874857705588), np.float64(0.12808575688157367), np.float64(0.12610363016566534), np.float64(0.12425389968260257), np.float64(0.1223808894158404), np.float64(0.12068191687934228), np.float64(0.11898366632287488), np.float64(0.1173609267295247), np.float64(0.11581732699116959), np.float64(0.11424410355559264), np.float64(0.11272893864599827), np.float64(0.11133120043766834), np.float64(0.10989507433605435), np.float64(0.1085209533434798), np.float64(0.10719069469259733), np.float64(0.10588073989570342), np.float64(0.10460608884547985), np.float64(0.10341737939058814), np.float64(0.10220304872295526), np.float64(0.1010065410834965), np.float64(0.09986223711683175), np.float64(0.09872382846540985), np.float64(0.09761676792819615), np.float64(0.09657285137515474), np.float64(0.09552953598562351), np.float64(0.09448745322444153), np.float64(0.09349740015044544), np.float64(0.09247887544720955), np.float64(0.09155389613135709), np.float64(0.09060475377740636), np.float64(0.08968350774905162), np.float64(0.08879649459214585), np.float64(0.08793715364908934), np.float64(0.08704908832744306), np.float64(0.08619583862331527), np.float64(0.08538072650075651), np.float64(0.08455521824769315), np.float64(0.0837454862977882), np.float64(0.08294953597094516), np.float64(0.08217692227352773), np.float64(0.0814224667870854), np.float64(0.08068226449135094), np.float64(0.07994516350469409), np.float64(0.07926214681810469), np.float64(0.07854067402070299), np.float64(0.07784172951993282), np.float64(0.07717140073333813), np.float64(0.07649552939554706), np.float64(0.07583443254845046), np.float64(0.07517496717755791), np.float64(0.07452917453754278), np.float64(0.07393241540587707), np.float64(0.07328780629219946), np.float64(0.0726928396974028), np.float64(0.07210572123851891), np.float64(0.07150107494801367), np.float64(0.0709396658529284), np.float64(0.07036367754659102), np.float64(0.06980920675397466), np.float64(0.06925022511973714), np.float64(0.06872144359407358), np.float64(0.06819734788283344), np.float64(0.06765976843244957), np.float64(0.06713957953618627), np.float64(0.06661058827316085), np.float64(0.06614268742825957), np.float64(0.06562449625129055), np.float64(0.06514951925263146), np.float64(0.06466214215529305)]\n"
     ]
    },
    {
     "data": {
      "image/png": "[encoded data removed]",
      "text/plain": [
       "<Figure size 640x480 with 1 Axes>"
      ]
     },
     "metadata": {},
     "output_type": "display_data"
    }
   ],
   "source": [
    "learning_rates = [0.0005, 0.001, 0.005, 0.01]\n",
    "\n",
    "err_curves = []\n",
    "colors = ['red', 'blue', 'green', 'black']\n",
    "\n",
    "for lr in learning_rates:\n",
    "    ### YOUR CODE STARTS HERE\n",
    "\n",
    "    # first need to create the the MLP model and set alpha to lr \n",
    "    model = MLPClassifier(hidden_layer_sizes=(64,), activation='relu', solver='sgd', batch_size=256, \n",
    "                          alpha=lr, n_iter_no_change=100, max_iter=100, random_state=seed)\n",
    "\n",
    "    # then fit to the training data \n",
    "    model.fit(X_tr, y_tr)\n",
    "\n",
    "    # then get the loss curve \n",
    "    loss = model.loss_curve_\n",
    "    print(f\"Loss for learning rate {lr}: {loss}\")\n",
    "    err_curves.append(loss)\n",
    "\n",
    "# then plot these loss curves on the same plot \n",
    "for i, loss in enumerate(err_curves):\n",
    "    plt.plot(loss, color=colors[i], label=f'Learning rate: {learning_rates[i]}')\n",
    "\n",
    "# set labels \n",
    "plt.xlabel(\"Iterations\")\n",
    "plt.ylabel(\"Loss\")\n",
    "plt.title(\"Loss Curve vs. Learning Rate\")\n",
    "plt.legend(); \n",
    "plt.show();\n",
    "\n",
    "    ### YOUR CODE ENDS HERE"
   ]
  },
  {
   "cell_type": "markdown",
   "id": "7e7aecba",
   "metadata": {},
   "source": [
    "### Problem 2.3: Tuning a Neural Network (10 points)\n",
    "\n",
    "As you saw in Problem 3.2, there are many hyperparameters of a neural network that can possibly be tuned in order to try to maximize the accuracy of your model. For the final problem of this assignment, it is your job to tune these hyperparameters.\n",
    "\n",
    "For example, some hyperparameters you might choose to tune are:\n",
    "- Learning rate\n",
    "- Depth/width of the hidden layers\n",
    "- Regularization strength\n",
    "- Activation functions\n",
    "- Batch size in stochastic optimization\n",
    "- etc.\n",
    "\n",
    "To do this, you should train a network on the training data `X_tr` and evaluate its performance on the validation set `X_val` -- your goal is to achieve the highest possible accuracy on `X_val` by changing the network hyperparameters. **Important: To make your code run faster, you should train all of your networks in this problem on only the first 10,000 images of `X_tr`**. This was already set up for you in Problem 3.2.\n",
    "\n",
    "Try to find settings that enable you to achieve an error rate smaller than 5% on the validation data. However, tuning neural networks can be difficult; if you cannot achieve this target error rate, be sure to try at least five different neural networks (corresponding to five different settings of the hyperparameters).\n",
    "\n",
    "In your answer, include a table listing the different hyperparameters that you tried, along with the resulting accuracy on the training and validation sets `X_tr` and `X_val`. Indicate which of these hyperparameter settings you would choose for your final model, and report the accuracy of this final model on the testing set `X_te`."
   ]
  },
  {
   "cell_type": "code",
   "execution_count": null,
   "id": "3d8cbaf0",
   "metadata": {},
   "outputs": [],
   "source": []
  },
  {
   "cell_type": "markdown",
   "id": "5661b33a",
   "metadata": {},
   "source": [
    "in class we leanred that the ReLu activation finction is far superior than all the others so i chose ReLu as my activation function in all 5 of my neural networks. \n"
   ]
  },
  {
   "cell_type": "markdown",
   "id": "46af25fe",
   "metadata": {},
   "source": [
    "## Problem 3: Torch and Convolutional Networks\n",
    "\n",
    "In this problem, we will train a small convolutional neural network and compare it to the \"standard\" MLP model you built in Problem 2.  Since ``scikit`` does not support CNNs, we will implement a simple CNN model using ``torch``.\n",
    "\n",
    "The ``torch`` library may take a while to install if it is not yet on your system.  It should be pre-installed on ICS Jupyter Hub (``hub.ics.uci.edu``) and Google CoLab, if you prefer to use those."
   ]
  },
  {
   "cell_type": "markdown",
   "id": "ca421c8f",
   "metadata": {},
   "source": [
    "### Problem 3.0: Defining the CNN\n",
    "\n",
    "First, we need to define a CNN model.  This is done for you; it consists of one convolutional layer, a pooling layer to down-sample the hidden nodes, and a standard fully-connected or linear layer.  It contains methods to calculate the 0/1 loss as well as the negative log-likelihood, and trains using the Adam variant of SGD.\n",
    "\n",
    "It can (optionally) output a real-time plot of the training process at each epoch, if you would like to assess how it is doing."
   ]
  },
  {
   "cell_type": "code",
   "execution_count": 35,
   "id": "38923ae8",
   "metadata": {},
   "outputs": [],
   "source": [
    "import torch \n",
    "torch.set_default_dtype(torch.float64)\n",
    "\n",
    "class myConvNet(object):\n",
    "    def __init__(self):\n",
    "        # Initialize parameters: assumes data size! 28x28 and 10 classes\n",
    "        self.conv_ = torch.nn.Conv2d(1, 16, (5,5), stride=2)  # Be careful when declaring sizes;\n",
    "        self.pool_ = torch.nn.MaxPool2d(3, stride=2)          # inconsistent sizes will give you\n",
    "        self.lin_ = torch.nn.Linear(400,10)                   # hard-to-read error messages.\n",
    "            \n",
    "    def forward_(self,X):\n",
    "        \"\"\"Compute NN forward pass and output class probabilities (as tensor) \"\"\"\n",
    "        r1 = self.conv_(X)             # X is (m,1,28,28); R is (m,16,24,24)/2 = (m,16,12,12)\n",
    "        h1 = torch.relu(r1)            #\n",
    "        h1_pooled = self.pool_(h1)     # H1 is (m,16,12,12), so H1p is (m,16,10,10)/2 = (m,16,5,5)\n",
    "        h1_flat = torch.nn.Flatten()(h1_pooled)  # and H1f is (m,400)\n",
    "        r2 = self.lin_(h1_flat)\n",
    "        f  = torch.softmax(r2,axis=1)  # Output is (m,10)\n",
    "        return f \n",
    "        \n",
    "    def parameters(self): \n",
    "        return list(self.conv_.parameters())+list(self.pool_.parameters())+list(self.lin_.parameters())\n",
    "    \n",
    "    def predict(self,X):\n",
    "        \"\"\"Compute NN class predictions (as array) \"\"\"\n",
    "        m,n = X.shape\n",
    "        Xtorch = torch.tensor(X).reshape(m,1,int(np.sqrt(n)),int(np.sqrt(n)))\n",
    "        return self.classes_[np.argmax(self.forward_(Xtorch).detach().numpy(),axis=1)]   # pick the most probable class\n",
    "\n",
    "    def J01(self,X,y):   return (y != self.predict(X)).mean()\n",
    "    def JNLL_(self,X,y): return -torch.log(self.forward_(X)[range(len(y)),y.astype(int)]).mean()\n",
    "\n",
    "    def fit(self, X,y, batch_size=256, max_iter=100, learning_rate_init=.005, momentum=0.9, alpha=.001, plot=False):\n",
    "        self.classes_ = np.unique(y)        \n",
    "        m,n = X.shape\n",
    "        Xtorch = torch.tensor(X).reshape(m,1,int(np.sqrt(n)),int(np.sqrt(n)))        \n",
    "        self.loss01, self.lossNLL = [self.J01(X,y)], [float(self.JNLL_(Xtorch,y))]\n",
    "\n",
    "        optimizer = torch.optim.Adam(self.parameters(), lr=learning_rate_init)\n",
    "        for epoch in range(max_iter):                        # 1 epoch = pass through all data\n",
    "            pi = np.random.permutation(m)                    # per epoch: permute data order\n",
    "            for ii,i in enumerate(range(0,m,batch_size)):    # & split into mini-batches\n",
    "                ivals = pi[i:i+batch_size]\n",
    "                optimizer.zero_grad()                        # Reset the gradient computation\n",
    "                Ji = self.JNLL_(Xtorch[ivals,:,:,:],y[ivals])\n",
    "                Ji.backward()\n",
    "                optimizer.step()\n",
    "            self.loss01.append(self.J01(X,y))                # track 0/1 and NLL losses\n",
    "            self.lossNLL.append(float(self.JNLL_(Xtorch,y)))\n",
    "            \n",
    "            if plot:                                         # optionally visualize progress\n",
    "                display.clear_output(wait=True)\n",
    "                plt.plot(range(epoch+2),self.loss01,'b-',range(epoch+2),self.lossNLL,'c-')\n",
    "                plt.title(f'J01: {self.loss01[-1]}, NLL: {self.lossNLL[-1]}')\n",
    "                plt.draw(); plt.pause(.01);"
   ]
  },
  {
   "cell_type": "markdown",
   "id": "94f7c263",
   "metadata": {},
   "source": [
    "### Problem 3.1: CNN model structure (10 points)\n",
    "\n",
    "How many (trainable) parameters are specified in the convolutional network? \n",
    "(If you like, you can count them -- you can access them through each trainable element, e.g.,\n",
    "``myConvNet().conv_._parameters['weights']`` and ``..._parameters['bias']``).  List how many from each layer, and the total."
   ]
  },
  {
   "cell_type": "code",
   "execution_count": null,
   "id": "76440985",
   "metadata": {},
   "outputs": [],
   "source": []
  },
  {
   "cell_type": "markdown",
   "id": "693087e4",
   "metadata": {},
   "source": [
    "### Problem 3.2: Training the model (10 points)\n",
    "\n",
    "Now train your model on ``X_tr``. (Note that this should now include only 10k data points.)  If you like you can plot while training to monitor its progress.  Train for 50 epochs, using a learning rate of .001.\n",
    "\n",
    "(Note that my simple training process takes these arguments directly into ``fit``, rather than being part of the model properties as is typical in ``scikit``.)"
   ]
  },
  {
   "cell_type": "code",
   "execution_count": null,
   "id": "32b355be",
   "metadata": {},
   "outputs": [],
   "source": []
  },
  {
   "cell_type": "markdown",
   "id": "e573f85e",
   "metadata": {},
   "source": [
    "### Problem 3.3: Evaluation and Discussion (5 points)\n",
    "\n",
    "Evaluate your CNN model's training, validation, and test error.  Compare these to the values you got after optimizing your model's training process in Problem 2.3 (Tuning).  Why do you think these differences occur? (Note that your answer may depend on how well your model in P2.3 did, of course.)"
   ]
  },
  {
   "cell_type": "code",
   "execution_count": null,
   "id": "d280130f",
   "metadata": {},
   "outputs": [],
   "source": []
  },
  {
   "cell_type": "markdown",
   "id": "134c58a5",
   "metadata": {},
   "source": [
    "### Problem 3.4: Comparing Predictions (5 points)\n",
    "\n",
    "Consider the \"somewhat ambiguous\" data point ``X_val[592]``.  Display the data point (it will look a bit weird since it is already normalized).  Then, use your trained ``MLPClassifier`` model to predict the class probabilities.  If there are other classes with non-negligible probability, are they plausible?  Similarly, find the class probabilities predicted by your CNN model.  Compare the two models' uncertainty."
   ]
  },
  {
   "cell_type": "code",
   "execution_count": null,
   "id": "107ebe23",
   "metadata": {},
   "outputs": [],
   "source": []
  },
  {
   "cell_type": "markdown",
   "id": "5d94998c",
   "metadata": {},
   "source": [
    "<div>\n",
    "    <img src=\"data:image/svg+xml,%3C%3Fxml%20version%3D%221.0%22%20encoding%3D%22UTF-8%22%20standalone%3D%22no%22%3F%3E%0A%3C%21DOCTYPE%20svg%20PUBLIC%20%22-//W3C//DTD%20SVG%201.1//EN%22%20%22http%3A//www.w3.org/Graphics/SVG/1.1/DTD/svg11.dtd%22%3E%0A%3Csvg%20stroke-miterlimit%3D%2210%22%20style%3D%22fill-rule%3Anonzero%3Bclip-rule%3Aevenodd%3Bstroke-linecap%3Around%3Bstroke-linejoin%3Around%3B%22%20version%3D%221.1%22%20viewBox%3D%220%200%20288%2072%22%20xml%3Aspace%3D%22preserve%22%20xmlns%3D%22http%3A//www.w3.org/2000/svg%22%20xmlns%3Axlink%3D%22http%3A//www.w3.org/1999/xlink%22%3E%0A%3Cdefs/%3E%0A%3Cg%20id%3D%22Layer-1%22%3E%0A%3Cpath%20d%3D%22M34.042%2035.8741C45.8469%2023.244%2031.1794%2022.6473%2024.2857%2024.1167C17.3921%2025.5861-0.960215%2033.2987%206.07817%2043.4256C13.1166%2053.5525%2023.0237%2056.9377%2052.2446%2053.4091C81.4656%2049.8804%2097.2436%2032.811%20122.962%2029.3111C148.681%2025.8112%20155.118%2039.4093%20155.118%2039.4093%22%20fill%3D%22none%22%20opacity%3D%221%22%20stroke%3D%22%23000000%22%20stroke-linecap%3D%22butt%22%20stroke-linejoin%3D%22round%22%20stroke-width%3D%223%22/%3E%0A%3Cpath%20d%3D%22M254.053%2040.6889C242.328%2053.1071%20256.999%2053.6247%20263.883%2052.1549C270.768%2050.685%20289.071%2043.0512%20281.969%2033.1691C274.868%2023.287%20264.94%2020.0179%20235.741%2023.6051C206.543%2027.1922%20190.872%2043.9744%20165.176%2047.5176C139.48%2051.0607%20132.957%2037.7776%20132.957%2037.7776%22%20fill%3D%22none%22%20opacity%3D%221%22%20stroke%3D%22%23000000%22%20stroke-linecap%3D%22butt%22%20stroke-linejoin%3D%22round%22%20stroke-width%3D%223%22/%3E%0A%3C/g%3E%0A%3C/svg%3E%0A\" width=\"200\"/>\n",
    "</div>"
   ]
  },
  {
   "cell_type": "markdown",
   "id": "72711f6c",
   "metadata": {
    "id": "4a052765"
   },
   "source": [
    "### Statement of Collaboration (5 points)\n",
    "\n",
    "It is **mandatory** to include a Statement of Collaboration in each submission, with respect to the guidelines below. Include the names of everyone involved in the discussions (especially in-person ones), and what was discussed.\n",
    "\n",
    "All students are required to follow the academic honesty guidelines posted on the course website. For\n",
    "programming assignments, in particular, I encourage the students to organize (perhaps using EdD) to\n",
    "discuss the task descriptions, requirements, bugs in my code, and the relevant technical content before they start\n",
    "working on it. However, you should not discuss the specific solutions, and, as a guiding principle, you are not\n",
    "allowed to take anything written or drawn away from these discussions (i.e. no photographs of the blackboard,\n",
    "written notes, referring to EdD, etc.). Especially after you have started working on the assignment, try\n",
    "to restrict the discussion to EdD as much as possible, so that there is no doubt as to the extent of your\n",
    "collaboration."
   ]
  },
  {
   "cell_type": "markdown",
   "id": "c9be5f7e",
   "metadata": {},
   "source": [
    "i did not collaborate with anyone during the completion of this assignment. "
   ]
  }
 ],
 "metadata": {
  "colab": {
   "collapsed_sections": [],
   "provenance": []
  },
  "hide_input": false,
  "kernelspec": {
   "display_name": "Python 3",
   "language": "python",
   "name": "python3"
  },
  "language_info": {
   "codemirror_mode": {
    "name": "ipython",
    "version": 3
   },
   "file_extension": ".py",
   "mimetype": "text/x-python",
   "name": "python",
   "nbconvert_exporter": "python",
   "pygments_lexer": "ipython3",
   "version": "3.12.6"
  },
  "toc": {
   "base_numbering": 1,
   "nav_menu": {},
   "number_sections": true,
   "sideBar": true,
   "skip_h1_title": false,
   "title_cell": "Table of Contents",
   "title_sidebar": "Contents",
   "toc_cell": false,
   "toc_position": {},
   "toc_section_display": true,
   "toc_window_display": false
  },
  "varInspector": {
   "cols": {
    "lenName": 16,
    "lenType": 16,
    "lenVar": 40
   },
   "kernels_config": {
    "python": {
     "delete_cmd_postfix": "",
     "delete_cmd_prefix": "del ",
     "library": "var_list.py",
     "varRefreshCmd": "print(var_dic_list())"
    },
    "r": {
     "delete_cmd_postfix": ") ",
     "delete_cmd_prefix": "rm(",
     "library": "var_list.r",
     "varRefreshCmd": "cat(var_dic_list()) "
    }
   },
   "types_to_exclude": [
    "module",
    "function",
    "builtin_function_or_method",
    "instance",
    "_Feature"
   ],
   "window_display": false
  }
 },
 "nbformat": 4,
 "nbformat_minor": 5
}
