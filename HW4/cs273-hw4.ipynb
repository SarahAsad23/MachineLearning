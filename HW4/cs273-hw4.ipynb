{
 "cells": [
  {
   "cell_type": "markdown",
   "id": "8de626d6",
   "metadata": {
    "id": "43b7d466"
   },
   "source": [
    "# CS273A Homework 4 \n",
    "\n",
    "## Due: Monday November 4th, 2024 (11:59pm)"
   ]
  },
  {
   "cell_type": "markdown",
   "id": "b90a3017",
   "metadata": {
    "id": "a0921f03"
   },
   "source": [
    "---\n",
    "## Instructions\n",
    "\n",
    "\n",
    "This homework (and subsequent ones) will involve data analysis and reporting on methods and results\n",
    "using Python code. You will submit a **single PDF file** that contains everything to Gradescope. This includes any text you wish to include to describe your results, the complete code snippets of how you attempted each problem, any figures that were generated, and scans of any work on paper that you wish to include. It is important that you include enough detail that we know how you solved the problem, since otherwise we will be unable to grade it. \n",
    "\n",
    "Your homeworks will be given to you as Jupyter notebooks containing the problem descriptions and some template code that will help you get started. You are encouraged to use these starter Jupyter notebooks to complete your assignment and to write your report. This will help you not only ensure that all of the code for the solutions is included, but also will provide an easy way to export your results to a PDF file (for example, doing *print preview* and *printing to pdf*). I recommend liberal use of Markdown cells to create headers for each problem and sub-problem, explaining your implementation/answers, and including any mathematical equations. For parts of the homework you do on paper, scan it in such that it is legible (there are a number of free Android/iOS scanning apps, if you do not have access to a scanner), and include it as an image in the Jupyter notebook.\n",
    "\n",
    "**Double check that all of your answers are legible on Gradescope, e.g. make sure any text you have written does not get cut off.**\n",
    "\n",
    "If you have any questions/concerns about using Jupyter notebooks, ask us on EdD. If you decide not to use Jupyter notebooks, but go with Microsoft Word or LaTeX to create your PDF file, make sure that all of the answers can be generated from the code snippets included in the document.\n",
    "### Summary of Assignment: 100 total points\n",
    "- Problem 1: A Small Neural Network (30 points)\n",
    "    - Problem 1.1: Forward Pass (10 points)\n",
    "    - Problem 1.2: Evaluate Loss (10 points)\n",
    "    - Problem 1.3: Network Size (10 points)\n",
    "- Problem 2: Neural Networks on MNIST (35 points)\n",
    "    - Problem 2.1: Varying the Amount of Training Data (15 points)\n",
    "    - Problem 2.3: Optimization Curves (10 points)\n",
    "    - Problem 2.3: Tuning your Neural Network (10 points)\n",
    "- Problem 3: Convolutional Networks (30 points)\n",
    "    - Problem 3.1: Model structure (10 points)\n",
    "    - Problem 3.2: Training (10 points)\n",
    "    - Problem 3.3: Evaluation (5 points)\n",
    "    - Problem 3.4: Comparing predictions (5 points)\n",
    "- Statement of Collaboration (5 points)"
   ]
  },
  {
   "cell_type": "markdown",
   "id": "cb7c4e73",
   "metadata": {
    "id": "648cdb14"
   },
   "source": [
    "Before we get started, let's import some libraries that you will make use of in this assignment. Make sure that you run the code cell below in order to import these libraries.\n",
    "\n",
    "**Important: In the code block below, we set `seed=1234`. This is to ensure your code has reproducible results and is important for grading. Do not change this. If you are not using the provided Jupyter notebook, make sure to also set the random seed as below.**\n",
    "\n",
    "**Important: Do not change any codes we give you below, except for those waiting for you to complete. This is to ensure your code has reproducible results and is important for grading.**"
   ]
  },
  {
   "cell_type": "code",
   "execution_count": 10,
   "id": "341bd51c",
   "metadata": {
    "colab": {
     "base_uri": "https://localhost:8080/"
    },
    "id": "f788ad34",
    "outputId": "e6f1442e-c54d-4eaf-b2e3-90ca864d2d3f"
   },
   "outputs": [],
   "source": [
    "import numpy as np\n",
    "import matplotlib.pyplot as plt\n",
    "\n",
    "import torch\n",
    "\n",
    "from IPython import display\n",
    "\n",
    "from sklearn.datasets import fetch_openml            # common data set access\n",
    "from sklearn.preprocessing import StandardScaler     # scaling transform\n",
    "from sklearn.model_selection import train_test_split # validation tools\n",
    "from sklearn.metrics import accuracy_score\n",
    "\n",
    "from sklearn.neural_network import MLPClassifier     # scikit's MLP\n",
    "\n",
    "import warnings\n",
    "warnings.filterwarnings('ignore')\n",
    "\n",
    "# Fix the random seed for reproducibility\n",
    "# !! Important !! : do not change this\n",
    "seed = 1234\n",
    "np.random.seed(seed)  \n",
    "torch.manual_seed(seed);"
   ]
  },
  {
   "cell_type": "markdown",
   "id": "8f8ea791",
   "metadata": {},
   "source": [
    "---\n",
    "## Problem 1: A Small Neural Network\n",
    "\n",
    "\n",
    "Consider the small neural network given in the image below, which will classify a 3-dimensional feature vector $\\mathbf{x}$ into one of three classes ($y = 0, 1, 2$):"
   ]
  },
  {
   "cell_type": "markdown",
   "id": "97d87210",
   "metadata": {},
   "source": [
    "You are given an input to this network $\\mathbf{x}$, \n",
    "$$\n",
    "\\mathbf{x} = \\begin{bmatrix} x_1 & x_2 & x_3 \\end{bmatrix} = \\begin{bmatrix} 1 & 3 & -2 \\end{bmatrix}\n",
    "$$\n",
    "as well as weights $W$ for the hidden layer and weights $B$ for the output layer. \n",
    "\n",
    "$$\n",
    "W = \\begin{bmatrix} \n",
    "    w_{01} & w_{11} & w_{21} & w_{31} \\\\ \n",
    "    w_{02} & w_{12} & w_{22} & w_{32} \\\\\n",
    "    \\end{bmatrix} =\n",
    "    \\begin{bmatrix} \n",
    "    1 & -1 & 0 & 5 \\\\ \n",
    "    2 & 1 & 1 & 2 \\\\\n",
    "    \\end{bmatrix}\n",
    "$$\n",
    "\n",
    "$$\n",
    "B = \\begin{bmatrix} \n",
    "    \\beta_{01} & \\beta_{11} & \\beta_{21} \\\\\n",
    "    \\beta_{02} & \\beta_{12} & \\beta_{22} \\\\\n",
    "    \\beta_{03} & \\beta_{13} & \\beta_{23} \\\\\n",
    "    \\end{bmatrix} =\n",
    "    \\begin{bmatrix}\n",
    "    4 & -1 & 0 \\\\\n",
    "    3 & 0 & 2 \\\\\n",
    "    2 & 1 & 1\n",
    "    \\end{bmatrix}\n",
    "$$\n",
    "\n",
    "For example, $w_{12}$ is the weight connecting input $x_1$ to hidden node $h_2$; $w_{01}$ is the constant (bias) term for $h_1$, etc.\n",
    "\n",
    "This network uses the ReLU activation function for the hidden layer, and uses the softmax activation function for the output layer. "
   ]
  },
  {
   "cell_type": "markdown",
   "id": "99fc4354",
   "metadata": {},
   "source": [
    "Answer the following questions about this network.\n",
    "\n",
    "### Problem 1.1 (10 points): Forward Pass\n",
    "- Given the inputs and weights above, compute the values of the hidden units $h_1, h_2$ and the outputs $f_0, f_1, f_2$. You should do this by hand, i.e. you should not write any code to do the calculation, but feel free to use a calculator to help you do the computations.\n",
    "- You can optionally use $\\LaTeX$ in your answer on the Jupyter notebook. Otherwise, write your answer on paper and include a picture of your answer in this notebook. In order to include an image in Jupyter notebook, save the image in the same directory as the .ipynb file and then write `![caption](image.png)`. Alternatively, you may go to Edit --> Insert Image at the top menu to insert an image into a Markdown cell. **Double check that your image is visible in your PDF submission.**\n",
    "- What class would the network predict for the input $\\mathbf{x}$?"
   ]
  },
  {
   "cell_type": "markdown",
   "id": "ff0a1934",
   "metadata": {},
   "source": [
    "![](IMG_0380.jpg)\n",
    "![](IMG_0381.jpg)"
   ]
  },
  {
   "cell_type": "markdown",
   "id": "0403c798",
   "metadata": {},
   "source": [
    "### Problem 1.2 (10 points): Evaluate Loss\n",
    "Typically when we train neural networks for classification, we seek to minimize the log-loss function. Note that the output of the log-loss function is always nonnegative ($\\geq 0$), but can be arbitrarily large (you should pause for a second and make sure you understand why this is true).\n",
    "\n",
    "- Suppose the true label for the input $\\mathbf{x}$ is $y = 1$. What would be the value of our loss function based on the network's prediction for $\\mathbf{x}$?\n",
    "- Suppose instead that the true label for the input $\\mathbf{x}$ is $y = 2$. What would be the value of our loss function based on the network's prediction for $\\mathbf{x}$?\n",
    "\n",
    "You are free to use numpy / Python to help you calculate this, but don't use any neural network libraries that will automatically calculate the loss for you."
   ]
  },
  {
   "cell_type": "code",
   "execution_count": 40,
   "id": "fa9fbc47",
   "metadata": {
    "scrolled": true
   },
   "outputs": [
    {
     "name": "stdout",
     "output_type": "stream",
     "text": [
      "softmax [0.0452785 0.909443  0.0452785]\n",
      "Log loss for y = 1: 0.09492295642096098\n",
      "Log loss for y = 2: 3.094922956420961\n"
     ]
    }
   ],
   "source": [
    "# here are the f values \n",
    "f = [4, 7, 4]\n",
    "\n",
    "# compute softmax \n",
    "exps = np.exp(f)\n",
    "Z = np.sum(exps)\n",
    "soft_max = exps / Z\n",
    "\n",
    "# these are the \"true\" y values \n",
    "y1 = 1\n",
    "y2 = 2\n",
    "\n",
    "# now calculate the log loss \n",
    "loss_y1 = -np.log(soft_max[y1])\n",
    "loss_y2 = -np.log(soft_max[y2])\n",
    "\n",
    "print(f\"softmax {soft_max}\")\n",
    "print(f\"Log loss for y = 1: {loss_y1}\")\n",
    "print(f\"Log loss for y = 2: {loss_y2}\")\n",
    "\n",
    "\n"
   ]
  },
  {
   "cell_type": "markdown",
   "id": "506e895b",
   "metadata": {},
   "source": [
    "### Problem 1.3 (10 points): Network Size\n",
    "- Suppose we change our network so that there are $12$ hidden nodes instead of $2$. How many total parameters (weights and biases) are in our new network?"
   ]
  },
  {
   "cell_type": "markdown",
   "id": "c3b0039f",
   "metadata": {},
   "source": [
    "\n",
    "from input layer to hidden layer: \n",
    "2 nodes = 6 weights = 3 weights / node so 3 * 12 = 36 weights plus 12 constants (bias) so 36 + 12 = 48\n",
    "\n",
    "from hidden layer to output layer: \n",
    "hidden nodes = 12 * number of outputs = 3 so 12 * 3 = 36 weights plus 3 constant (bias) so 36 + 3 = 39 \n",
    "\n",
    "48 + 39 = 87 total parameters in the network"
   ]
  },
  {
   "cell_type": "markdown",
   "id": "cf3adee3",
   "metadata": {},
   "source": [
    "<div>\n",
    "    <img src=\"data:image/svg+xml,%3C%3Fxml%20version%3D%221.0%22%20encoding%3D%22UTF-8%22%20standalone%3D%22no%22%3F%3E%0A%3C%21DOCTYPE%20svg%20PUBLIC%20%22-//W3C//DTD%20SVG%201.1//EN%22%20%22http%3A//www.w3.org/Graphics/SVG/1.1/DTD/svg11.dtd%22%3E%0A%3Csvg%20stroke-miterlimit%3D%2210%22%20style%3D%22fill-rule%3Anonzero%3Bclip-rule%3Aevenodd%3Bstroke-linecap%3Around%3Bstroke-linejoin%3Around%3B%22%20version%3D%221.1%22%20viewBox%3D%220%200%20288%2072%22%20xml%3Aspace%3D%22preserve%22%20xmlns%3D%22http%3A//www.w3.org/2000/svg%22%20xmlns%3Axlink%3D%22http%3A//www.w3.org/1999/xlink%22%3E%0A%3Cdefs/%3E%0A%3Cg%20id%3D%22Layer-1%22%3E%0A%3Cpath%20d%3D%22M34.042%2035.8741C45.8469%2023.244%2031.1794%2022.6473%2024.2857%2024.1167C17.3921%2025.5861-0.960215%2033.2987%206.07817%2043.4256C13.1166%2053.5525%2023.0237%2056.9377%2052.2446%2053.4091C81.4656%2049.8804%2097.2436%2032.811%20122.962%2029.3111C148.681%2025.8112%20155.118%2039.4093%20155.118%2039.4093%22%20fill%3D%22none%22%20opacity%3D%221%22%20stroke%3D%22%23000000%22%20stroke-linecap%3D%22butt%22%20stroke-linejoin%3D%22round%22%20stroke-width%3D%223%22/%3E%0A%3Cpath%20d%3D%22M254.053%2040.6889C242.328%2053.1071%20256.999%2053.6247%20263.883%2052.1549C270.768%2050.685%20289.071%2043.0512%20281.969%2033.1691C274.868%2023.287%20264.94%2020.0179%20235.741%2023.6051C206.543%2027.1922%20190.872%2043.9744%20165.176%2047.5176C139.48%2051.0607%20132.957%2037.7776%20132.957%2037.7776%22%20fill%3D%22none%22%20opacity%3D%221%22%20stroke%3D%22%23000000%22%20stroke-linecap%3D%22butt%22%20stroke-linejoin%3D%22round%22%20stroke-width%3D%223%22/%3E%0A%3C/g%3E%0A%3C/svg%3E%0A\" width=\"200\"/>\n",
    "</div>"
   ]
  },
  {
   "cell_type": "markdown",
   "id": "833a6e61",
   "metadata": {},
   "source": [
    "## Problem 2: Neural Networks on MNIST\n",
    "\n",
    "In this part of the assignment, you will get some hands-on experience working with neural networks. We will be using the scikit-learn implementation of a multi-layer perceptron (MLP). See [here](https://scikit-learn.org/stable/modules/generated/sklearn.neural_network.MLPClassifier.html) for the corresponding documentation. Although there are specialized Python libraries for neural networks, like [TensorFlow](https://www.tensorflow.org/) and [PyTorch](https://pytorch.org/), in this problem we'll just use scikit-learn since you're already familiar with it."
   ]
  },
  {
   "cell_type": "markdown",
   "id": "1450ad37",
   "metadata": {},
   "source": [
    "### Problem 2.0: Setting up the Data\n",
    "First, we'll load our MNIST dataset and split it into a training set and a testing set. Here you are given code that does this for you, and you only need to run it.\n",
    "\n",
    "We will use the scikit-learn class `StandardScaler` to standardize both the training and testing features. Notice that we **only** fit the `StandardScaler` on the training data, and *not* the testing data."
   ]
  },
  {
   "cell_type": "code",
   "execution_count": 11,
   "id": "05268bd6",
   "metadata": {},
   "outputs": [],
   "source": [
    "# Load the features and labels for the MNIST dataset\n",
    "# This might take a minute to download the images.\n",
    "X, y = fetch_openml('mnist_784', as_frame=False, return_X_y=True)\n",
    "\n",
    "# Convert labels to integer data type\n",
    "y = y.astype(int)"
   ]
  },
  {
   "cell_type": "code",
   "execution_count": 12,
   "id": "a46b5883",
   "metadata": {},
   "outputs": [],
   "source": [
    "X_tr, X_te, y_tr, y_te = train_test_split(X, y, test_size=0.1, random_state=seed, shuffle=True)"
   ]
  },
  {
   "cell_type": "code",
   "execution_count": 13,
   "id": "1719a393",
   "metadata": {},
   "outputs": [],
   "source": [
    "scaler = StandardScaler()\n",
    "scaler.fit(X_tr)\n",
    "X_tr = scaler.transform(X_tr)     # We can forget about the original values & work\n",
    "X_te = scaler.transform(X_te)     #  just with the transformed values from here"
   ]
  },
  {
   "cell_type": "markdown",
   "id": "a55a4b66",
   "metadata": {},
   "source": [
    "### Problem 2.1: Varying the amount of training data (15 points)\n",
    "One reason that neural networks have become popular in recent years is that, for many problems, we now have access to very large datasets. Since neural networks are very flexible models, they are often able to take advantage of these large datasets in order to achieve high levels of accuracy. In this problem, you will vary the amount of training data available to a neural network and see what effect this has on the model's performance.\n",
    "\n",
    "In this problem, you should use the following settings for your network:\n",
    "- A single hidden layer with $64$ hidden nodes\n",
    "- Use the ReLU activation function\n",
    "- Train the network using stochastic gradient descent (SGD) and a constant learning rate of $0.001$\n",
    "- Use a batch size of 256\n",
    "- **Make sure to set `random_state=seed`.**\n",
    "\n",
    "Your task is to implement the following:\n",
    "- Train an MLP model (with the above hyperparameter settings) using the first `m_tr` feature vectors in `X_tr`, where `m_tr = [100, 1000, 5000, 10000, 20000, 50000, 63000]`. You should use the `MLPClassifier` class from scikit-learn in your implementation.\n",
    "- Create a plot of the training error and testing error for your MLP model as a function of the number of training data points.  For comparison, also plot the training and test error rates we found when we trained a logistic regression model on MNIST (these values are provided below). Again, be sure to include an x-label, y-label, and legend in your plot and use a log-scale on the x-axis.\n",
    "- Give a short (one or two sentences) description of what you see in your plot.   Do you think that more data (beyond these 63000 examples) would continue to improve the model's performance?\n",
    "\n",
    "**Note** that training a neural network with a lot of data can be **a slow process**. Hence, you should be careful to implement your code such that it runs in a reasonable amount of time. One recommendation is to test your code using only a small subset of the given `m_tr` values, and only run your code with the larger values of `m_tr` once you are certain your code is working. (For reference, it took about 20 minutes to train all models on a quad-core desktop with no GPU.)"
   ]
  },
  {
   "cell_type": "code",
   "execution_count": 44,
   "id": "6e5703ae",
   "metadata": {},
   "outputs": [
    {
     "name": "stdout",
     "output_type": "stream",
     "text": [
      "error train: 0.0\n",
      "error test: 0.4072857142857143\n",
      "error train: 0.019\n",
      "error test: 0.16071428571428573\n",
      "error train: 0.0146\n",
      "error test: 0.08914285714285715\n",
      "error train: 0.0116\n",
      "error test: 0.068\n",
      "error train: 0.0092\n",
      "error test: 0.05071428571428571\n",
      "error train: 0.00734\n",
      "error test: 0.03528571428571429\n",
      "error train: 0.007238095238095238\n",
      "error test: 0.032857142857142856\n"
     ]
    }
   ],
   "source": [
    "#import time         # helpful if you want to track execution time\n",
    "#tic = time.time()\n",
    "\n",
    "train_sizes = [100, 1000, 5000, 10000, 20000, 50000, 63000]\n",
    "\n",
    "tr_err_mlp = []\n",
    "te_err_mlp = []\n",
    "\n",
    "for m_tr in train_sizes:\n",
    "    ### YOUR CODE STARTS HERE\n",
    "\n",
    "    X_train_subset = X_tr[:m_tr]  \n",
    "    y_train_subset = y_tr[:m_tr]\n",
    "\n",
    "    # first define the MLP \n",
    "    model = MLPClassifier(hidden_layer_sizes=(64,), activation='relu', solver='sgd', learning_rate_init=0.001, batch_size=256, random_state=seed)\n",
    "\n",
    "    # now we want to fit it to the subset of train data \n",
    "    model.fit(X_train_subset, y_train_subset)\n",
    "\n",
    "    # then we can predict on subset of train data and test data \n",
    "    y_pred_train = model.predict(X_train_subset)\n",
    "    y_pred_test = model.predict(X_te)\n",
    "\n",
    "    # then compute the error\n",
    "    error_rate_train = np.mean(y_train_subset != y_pred_train)\n",
    "    error_rate_test = np.mean(y_te != y_pred_test)\n",
    "\n",
    "    print(f\"error train: {error_rate_train}\")\n",
    "    print(f\"error test: {error_rate_test}\")\n",
    "\n",
    "    # add to corresponding arrays - used to plot later \n",
    "    tr_err_mlp.append(error_rate_train)\n",
    "    te_err_mlp.append(error_rate_test)\n",
    "\n",
    "    # print(f'Total elapsed time: {time.time()-tic}')\n",
    "    \n",
    "    ### YOUR CODE ENDS HERE"
   ]
  },
  {
   "cell_type": "code",
   "execution_count": 45,
   "id": "0ce54275",
   "metadata": {},
   "outputs": [],
   "source": [
    "# When plotting, use these (rounded) values from the similar logistic regression problem solution:\n",
    "tr_err_lr = np.array([0.   , 0.   , 0.   , 0.   , 0.024, 0.053, 0.057])\n",
    "te_err_lr = np.array([0.318, 0.149, 0.142, 0.137, 0.119, 0.087, 0.083])"
   ]
  },
  {
   "cell_type": "code",
   "execution_count": 47,
   "id": "7be77843",
   "metadata": {},
   "outputs": [
    {
     "data": {
      "image/png": "[encoded data removed]",
      "text/plain": [
       "<Figure size 640x480 with 1 Axes>"
      ]
     },
     "metadata": {},
     "output_type": "display_data"
    }
   ],
   "source": [
    "## YOUR CODE HERE (PLOTTING)\n",
    "\n",
    "plt.semilogx(tr_err_lr, color='blue', label='Logistic Train')\n",
    "plt.semilogx(te_err_lr, color='red', label='Logistic Test')\n",
    "plt.semilogx(tr_err_mlp, color='green', label='MLP Train')\n",
    "plt.semilogx(te_err_mlp, color='black', label='MLP Test')\n",
    "\n",
    "plt.ylabel(\"Error\")\n",
    "plt.xlabel(\"Training Data Size\")\n",
    "plt.title(\"Comparing Logistic vs. MPL Error on Various Training Data Sizes\")\n",
    "\n",
    "plt.legend(); "
   ]
  },
  {
   "cell_type": "markdown",
   "id": "c913e69b",
   "metadata": {},
   "source": [
    "in this plot we can see that in both Logistic Regression and MLP, both training and test error start to become closer together as the training data size increases. but there is a larger error gap when using logistic regression as compared to MLP. it should also be noted that when using MLP, train error remains constant for all data sizes. With more data, i think the gap in train and test error would difinetly reduce as when we have more training data, the model would be able to generalize better as it has more examples to go off of. "
   ]
  },
  {
   "cell_type": "markdown",
   "id": "94620cad",
   "metadata": {},
   "source": [
    "---\n",
    "### Problem 2.2: Optimization Curves (10 points)\n",
    "\n",
    "One hyperparameter that can have a significant effect on the optimization of your model, and thus its performance, is the learning rate, which controls the step size in (stochastic) gradient descent. In this problem you will vary the learning rate to see what effect this has on how quickly training converges as well as the effect on the performance of your model.\n",
    "\n",
    "In this problem, you should use the following settings for your network:\n",
    "- A single hidden layer with $64$ hidden nodes\n",
    "- Use the ReLU activation function\n",
    "- Train the network using stochastic gradient descent (SGD)\n",
    "- Use a batch size of 256\n",
    "- Set `n_iter_no_change=100` and `max_iter=100`. This ensures that all of your networks in this problem will train for 100 epochs (an *epoch* is one full pass over the training data).\n",
    "- Make sure to set `random_state=seed`.\n",
    "\n",
    "Your task is to:\n",
    "- Train a neural network with the above settings, but vary the learning rate in `lr = [0.0005, 0.001, 0.005, 0.01]`.\n",
    "- Create a plot showing the training loss as a function of the training epoch (i.e. the x-axis corresponds to training iterations) for each learning rate above. You should have a single plot with four curves. Make sure to include an x-label, a y-label, and a legend in your plot. (Hint: `MLPClassifier` has an attribute `loss_curve_` that you likely find useful.)\n",
    "- Include a short description of what you see in your plot."
   ]
  },
  {
   "cell_type": "markdown",
   "id": "953e2626",
   "metadata": {},
   "source": [
    "**Important: To make your code run faster, you should train all of your networks in this problem on only the first 10,000 images of `X_tr`**. In the following cell, you are provided a few lines of code that will create a small training set (with the first 10,000 images in `X_tr`) and a validation set (with the second 10,000 images in `X_tr`). You will use the validation later in Problem 3.3. "
   ]
  },
  {
   "cell_type": "code",
   "execution_count": 48,
   "id": "3924184e",
   "metadata": {},
   "outputs": [],
   "source": [
    "# Create a smaller training set with the first 10,000 images in X_tr\n",
    "# along with a validation set from images 10,000 - 20,000 in X_tr\n",
    "\n",
    "X_val = X_tr[10000:20000] # Validation set\n",
    "y_val = y_tr[10000:20000]\n",
    "\n",
    "X_tr = X_tr[:10000]       # From here on, we will only use these smaller sets,\n",
    "y_tr = y_tr[:10000]       #  so it's OK to discard the rest of the data"
   ]
  },
  {
   "cell_type": "code",
   "execution_count": 49,
   "id": "b502f101",
   "metadata": {},
   "outputs": [
    {
     "name": "stdout",
     "output_type": "stream",
     "text": [
      "Loss for learning rate 0.0005: [np.float64(2.5264379746630197), np.float64(1.8702116753161488), np.float64(1.4555428391959628), np.float64(1.199336227073659), np.float64(1.0308200654387465), np.float64(0.9126254985613014), np.float64(0.8246623621042302), np.float64(0.756414764144853), np.float64(0.7011605413887857), np.float64(0.6559798051853452), np.float64(0.6181136209178238), np.float64(0.5856046370524738), np.float64(0.5578439937430152), np.float64(0.5333041464336522), np.float64(0.5115026146535788), np.float64(0.4920556657462203), np.float64(0.4745857528458366), np.float64(0.4587301422825878), np.float64(0.44435508159332665), np.float64(0.43132055994268576), np.float64(0.41935739774238784), np.float64(0.4083148920370948), np.float64(0.3980428932840244), np.float64(0.3886461668190531), np.float64(0.3797454549468652), np.float64(0.3715586919177109), np.float64(0.36379853948496754), np.float64(0.3566557139077967), np.float64(0.3499444583782324), np.float64(0.3434739186511661), np.float64(0.33748272199992846), np.float64(0.3317335147388564), np.float64(0.326237135411586), np.float64(0.3211153027004842), np.float64(0.3161713347974512), np.float64(0.311503219948807), np.float64(0.30696800118749956), np.float64(0.30265335547321504), np.float64(0.29837398789911046), np.float64(0.2943908992603475), np.float64(0.2905086002927326), np.float64(0.2867901599478606), np.float64(0.2832236898847532), np.float64(0.2798392074006375), np.float64(0.27655600393742286), np.float64(0.2733750001372696), np.float64(0.2703305295898317), np.float64(0.26727214877722816), np.float64(0.26438840527680546), np.float64(0.26157614911464894), np.float64(0.25887465376446184), np.float64(0.25621455602108684), np.float64(0.2536109327849804), np.float64(0.2511508562234294), np.float64(0.24874408806588563), np.float64(0.24636498955729735), np.float64(0.2440184397603478), np.float64(0.24180425549359474), np.float64(0.23968341932184295), np.float64(0.23752852548030706), np.float64(0.23544320960359233), np.float64(0.233384561015112), np.float64(0.23135082477783026), np.float64(0.2294422598826648), np.float64(0.22747965197258155), np.float64(0.22555754294106556), np.float64(0.22373990213328035), np.float64(0.2219268708937606), np.float64(0.22019754843950312), np.float64(0.21850317429833727), np.float64(0.21681966093787378), np.float64(0.21518074701331816), np.float64(0.2135344555996578), np.float64(0.21198495164232908), np.float64(0.21044301541331534), np.float64(0.20893998161104105), np.float64(0.20749021470656845), np.float64(0.2060166361767912), np.float64(0.20455863774735666), np.float64(0.20314997834765014), np.float64(0.20178600909003977), np.float64(0.20041457561493853), np.float64(0.19906824892072245), np.float64(0.19772831830696305), np.float64(0.19643777567261117), np.float64(0.1951754203889842), np.float64(0.1939138639462523), np.float64(0.19263777935181764), np.float64(0.1914060872188862), np.float64(0.19022371058983856), np.float64(0.18904322437426732), np.float64(0.18781583349917982), np.float64(0.18665958038327957), np.float64(0.18554555625263505), np.float64(0.1844231563898405), np.float64(0.18331799810302812), np.float64(0.18224217572283993), np.float64(0.18115961616781093), np.float64(0.1801317029612304), np.float64(0.17908715426720515)]\n",
      "Loss for learning rate 0.001: [np.float64(2.2948452448764), np.float64(1.3730399166982252), np.float64(0.9869652321546694), np.float64(0.7982248653357011), np.float64(0.6839712926316273), np.float64(0.6066249033190626), np.float64(0.5495039917353016), np.float64(0.5051254037202335), np.float64(0.46964289430751044), np.float64(0.440582144283349), np.float64(0.41637208175199375), np.float64(0.39556366060987214), np.float64(0.3780108654180329), np.float64(0.36258676555009545), np.float64(0.348876604994208), np.float64(0.33669292662321026), np.float64(0.3256794270387641), np.float64(0.3156414199282116), np.float64(0.3065358497908543), np.float64(0.29807594158787837), np.float64(0.2903686568052995), np.float64(0.28322090559703467), np.float64(0.2764389985642924), np.float64(0.27028258734832494), np.float64(0.2643960070140884), np.float64(0.25893940267230714), np.float64(0.2537345288336201), np.float64(0.24887691371855927), np.float64(0.24423902184890817), np.float64(0.2397137040365845), np.float64(0.23553815292349622), np.float64(0.23147490591462688), np.float64(0.22754438793635295), np.float64(0.22394087829952786), np.float64(0.22048895533708096), np.float64(0.21721111532877868), np.float64(0.21391790378834558), np.float64(0.21079747642051885), np.float64(0.2077014847908972), np.float64(0.20482268551212468), np.float64(0.2020141067924835), np.float64(0.19930139439150815), np.float64(0.1966585008349662), np.float64(0.1941578463246285), np.float64(0.19173526811937489), np.float64(0.1893524099713664), np.float64(0.1870974421242034), np.float64(0.18481466761165277), np.float64(0.182632710309565), np.float64(0.18050373756436672), np.float64(0.17844624809164603), np.float64(0.17643471388633164), np.float64(0.17444487922532748), np.float64(0.17259065366125245), np.float64(0.1707350086363226), np.float64(0.16884167504628098), np.float64(0.16702661084895495), np.float64(0.16535026267406377), np.float64(0.1637463080775457), np.float64(0.16200513211665082), np.float64(0.1603377727891321), np.float64(0.15866664742942793), np.float64(0.15707712453870176), np.float64(0.15556722929123615), np.float64(0.15403719082300635), np.float64(0.15251915297844826), np.float64(0.15111130110101387), np.float64(0.14964905409598261), np.float64(0.14828068527738386), np.float64(0.14696573738071214), np.float64(0.14561604956142682), np.float64(0.14431748655722673), np.float64(0.1429708553051564), np.float64(0.14174201433048955), np.float64(0.14050391684110256), np.float64(0.13930949868953496), np.float64(0.13815593282917427), np.float64(0.13696041222876965), np.float64(0.1358157735421035), np.float64(0.13469127080818213), np.float64(0.133596377755335), np.float64(0.13250212334879755), np.float64(0.13143645554080693), np.float64(0.13039705290784012), np.float64(0.12933180926651888), np.float64(0.12833170832506463), np.float64(0.12732614792486435), np.float64(0.1262429824663425), np.float64(0.12519348729203153), np.float64(0.12428276983500766), np.float64(0.12328316144436169), np.float64(0.12227634478872415), np.float64(0.1213161937558686), np.float64(0.1204520271322104), np.float64(0.11952757535097092), np.float64(0.11860218918667748), np.float64(0.11770543825529525), np.float64(0.11685413805397393), np.float64(0.11603298268804324), np.float64(0.11518699410590559)]\n",
      "Loss for learning rate 0.005: [np.float64(1.4606088202321885), np.float64(0.5386706594616377), np.float64(0.39521247402824705), np.float64(0.32790069823847545), np.float64(0.28612504743944017), np.float64(0.25766930946464683), np.float64(0.2360631049456584), np.float64(0.21844077382506008), np.float64(0.2042388899187437), np.float64(0.19175106866569966), np.float64(0.18079600721271516), np.float64(0.17199658329606055), np.float64(0.1635541583013143), np.float64(0.15567988274259698), np.float64(0.1486192533486584), np.float64(0.14307970051166202), np.float64(0.1369689698949059), np.float64(0.13141073609029696), np.float64(0.1262062118040668), np.float64(0.12163987454753437), np.float64(0.11870475389368633), np.float64(0.11368877717111413), np.float64(0.10932810264390598), np.float64(0.10551323924388326), np.float64(0.1020065669916714), np.float64(0.0989659140374609), np.float64(0.09589300583035046), np.float64(0.0935906044923406), np.float64(0.08998523921312981), np.float64(0.08718675097824441), np.float64(0.08436937610385857), np.float64(0.08162701814334995), np.float64(0.07939067839033352), np.float64(0.07700244693902492), np.float64(0.0751325606995704), np.float64(0.07318866703466452), np.float64(0.07081725144561339), np.float64(0.06890414769689802), np.float64(0.0668979579128395), np.float64(0.06508691869478245), np.float64(0.06331068515659273), np.float64(0.06154678928344833), np.float64(0.05997976717506744), np.float64(0.05836551027333295), np.float64(0.05724511803803568), np.float64(0.05556268064901877), np.float64(0.054193797455645315), np.float64(0.052746906067958114), np.float64(0.05161586911973588), np.float64(0.05022533356113304), np.float64(0.049022144103583125), np.float64(0.047903432570657135), np.float64(0.046692134301705344), np.float64(0.04589562059640325), np.float64(0.04474933519402878), np.float64(0.04360480529679588), np.float64(0.04257354922940846), np.float64(0.0418344573018142), np.float64(0.041952948019521485), np.float64(0.04086781458678499), np.float64(0.039291791309477256), np.float64(0.03831382747905337), np.float64(0.0373588121940207), np.float64(0.03639580161005664), np.float64(0.03554157616899634), np.float64(0.03475508677120711), np.float64(0.03407664580741287), np.float64(0.033400251677433275), np.float64(0.032686539031332756), np.float64(0.03206104626645531), np.float64(0.031373942580301774), np.float64(0.0307439134971185), np.float64(0.030024944421987578), np.float64(0.029457768177104503), np.float64(0.028820468262228387), np.float64(0.02830024675106957), np.float64(0.027755807327124883), np.float64(0.027225875132834733), np.float64(0.026749170886074286), np.float64(0.026196610561685908), np.float64(0.02578105041580309), np.float64(0.02528513694299833), np.float64(0.02486649664029737), np.float64(0.024619383737836443), np.float64(0.024007830809316014), np.float64(0.023622526910336533), np.float64(0.023407465434438838), np.float64(0.022755423119187233), np.float64(0.022274081166392554), np.float64(0.022208450585908663), np.float64(0.021518112865483142), np.float64(0.021094110026098536), np.float64(0.02084311159782473), np.float64(0.020544242731552878), np.float64(0.02010818192267281), np.float64(0.019723283013215503), np.float64(0.019367467466536357), np.float64(0.01906727138612411), np.float64(0.01879103339290262), np.float64(0.018453818439918272)]\n",
      "Loss for learning rate 0.01: [np.float64(1.133510279423775), np.float64(0.37740229535034464), np.float64(0.2866416936103345), np.float64(0.2374599921238071), np.float64(0.20577261010678075), np.float64(0.18345097342549815), np.float64(0.16594740415336104), np.float64(0.1519235750579133), np.float64(0.14020235786236906), np.float64(0.13015641935936445), np.float64(0.12000530503704102), np.float64(0.11359361617211446), np.float64(0.10607328408126691), np.float64(0.09947576089585014), np.float64(0.09296508444127127), np.float64(0.08859987664827508), np.float64(0.08300521091415337), np.float64(0.07795533332663354), np.float64(0.0731669075565648), np.float64(0.0693930417157925), np.float64(0.06849212311060626), np.float64(0.06295205339912786), np.float64(0.059144023631840084), np.float64(0.05596231204566605), np.float64(0.05305248328056491), np.float64(0.051014876418519775), np.float64(0.04859166539711372), np.float64(0.04693727118681686), np.float64(0.04384461801800291), np.float64(0.04203634968878033), np.float64(0.03982094184437852), np.float64(0.037899972671550576), np.float64(0.03637075597756358), np.float64(0.03478981516630567), np.float64(0.0336162650246499), np.float64(0.032372228637844204), np.float64(0.030784780080633317), np.float64(0.029461601207930607), np.float64(0.02836073938420876), np.float64(0.027287739442156175), np.float64(0.02622041928360583), np.float64(0.0251979472850771), np.float64(0.024369311546040166), np.float64(0.02342231760473055), np.float64(0.022955762942539832), np.float64(0.02193035385819492), np.float64(0.021174602706526758), np.float64(0.02041500390858643), np.float64(0.019843372326610688), np.float64(0.019124392945472773), np.float64(0.01851912619858245), np.float64(0.01811293261452192), np.float64(0.017420592213597572), np.float64(0.016967609579147374), np.float64(0.01643806006723453), np.float64(0.015919758372608204), np.float64(0.015447290681970557), np.float64(0.015154029986609453), np.float64(0.01541426173341526), np.float64(0.015094030846350729), np.float64(0.014088729469695667), np.float64(0.013693050335586036), np.float64(0.013227352327450637), np.float64(0.012803127521563207), np.float64(0.012447079027807046), np.float64(0.012126657364090273), np.float64(0.011893682944384967), np.float64(0.011579068645604007), np.float64(0.011302284254926496), np.float64(0.011055721730764365), np.float64(0.010778461408962554), np.float64(0.010543901308682541), np.float64(0.010250379439566103), np.float64(0.010056316065327336), np.float64(0.009804398348507532), np.float64(0.009620390961593879), np.float64(0.009407457022809401), np.float64(0.009212975209920224), np.float64(0.00904623551053641), np.float64(0.008838260723815517), np.float64(0.008692597070669543), np.float64(0.00851507922267759), np.float64(0.008367359101255696), np.float64(0.008382322114123687), np.float64(0.008099333744762462), np.float64(0.007968054556629614), np.float64(0.007871084101213933), np.float64(0.0076570844435649935), np.float64(0.007491498148192018), np.float64(0.007657277290482884), np.float64(0.00725402081429589), np.float64(0.007093957581152203), np.float64(0.007000169948396447), np.float64(0.0069097182709445416), np.float64(0.006767198899093543), np.float64(0.006632693157040634), np.float64(0.006515314219027122), np.float64(0.006414980627616323), np.float64(0.006325198090609104), np.float64(0.006214517411320687)]\n"
     ]
    },
    {
     "data": {
      "image/png": "[encoded data removed]",
      "text/plain": [
       "<Figure size 640x480 with 1 Axes>"
      ]
     },
     "metadata": {},
     "output_type": "display_data"
    }
   ],
   "source": [
    "learning_rates = [0.0005, 0.001, 0.005, 0.01]\n",
    "\n",
    "err_curves = []\n",
    "colors = ['red', 'blue', 'green', 'black']\n",
    "\n",
    "for lr in learning_rates:\n",
    "    ### YOUR CODE STARTS HERE\n",
    "\n",
    "    # first need to create the the MLP model and set alpha to lr \n",
    "    model = MLPClassifier(hidden_layer_sizes=(64,), activation='relu', solver='sgd', batch_size=256, \n",
    "                          learning_rate_init=lr, n_iter_no_change=100, max_iter=100, random_state=seed)\n",
    "\n",
    "    # then fit to the training data \n",
    "    model.fit(X_tr, y_tr)\n",
    "\n",
    "    # then get the loss curve \n",
    "    loss = model.loss_curve_\n",
    "    print(f\"Loss for learning rate {lr}: {loss}\")\n",
    "    err_curves.append(loss)\n",
    "\n",
    "# then plot these loss curves on the same plot \n",
    "for i, loss in enumerate(err_curves):\n",
    "    plt.plot(loss, color=colors[i], label=f'Learning rate: {learning_rates[i]}')\n",
    "\n",
    "# set labels \n",
    "plt.xlabel(\"Iterations\")\n",
    "plt.ylabel(\"Loss\")\n",
    "plt.title(\"Loss Curve vs. Learning Rate\")\n",
    "plt.legend(); \n",
    "plt.show();\n",
    "\n",
    "    ### YOUR CODE ENDS HERE"
   ]
  },
  {
   "cell_type": "markdown",
   "id": "da5849b3",
   "metadata": {},
   "source": [
    "here we can see that loss decreases as iterations increase. loss also starts out the lowest and is the lowest with number of iterations for the learning rate of 0.1."
   ]
  },
  {
   "cell_type": "markdown",
   "id": "7e7aecba",
   "metadata": {},
   "source": [
    "### Problem 2.3: Tuning a Neural Network (10 points)\n",
    "\n",
    "As you saw in Problem 3.2, there are many hyperparameters of a neural network that can possibly be tuned in order to try to maximize the accuracy of your model. For the final problem of this assignment, it is your job to tune these hyperparameters.\n",
    "\n",
    "For example, some hyperparameters you might choose to tune are:\n",
    "- Learning rate\n",
    "- Depth/width of the hidden layers\n",
    "- Regularization strength\n",
    "- Activation functions\n",
    "- Batch size in stochastic optimization\n",
    "- etc.\n",
    "\n",
    "To do this, you should train a network on the training data `X_tr` and evaluate its performance on the validation set `X_val` -- your goal is to achieve the highest possible accuracy on `X_val` by changing the network hyperparameters. **Important: To make your code run faster, you should train all of your networks in this problem on only the first 10,000 images of `X_tr`**. This was already set up for you in Problem 3.2.\n",
    "\n",
    "Try to find settings that enable you to achieve an error rate smaller than 5% on the validation data. However, tuning neural networks can be difficult; if you cannot achieve this target error rate, be sure to try at least five different neural networks (corresponding to five different settings of the hyperparameters).\n",
    "\n",
    "In your answer, include a table listing the different hyperparameters that you tried, along with the resulting accuracy on the training and validation sets `X_tr` and `X_val`. Indicate which of these hyperparameter settings you would choose for your final model, and report the accuracy of this final model on the testing set `X_te`."
   ]
  },
  {
   "cell_type": "code",
   "execution_count": 53,
   "id": "3d8cbaf0",
   "metadata": {},
   "outputs": [
    {
     "name": "stdout",
     "output_type": "stream",
     "text": [
      "Train Error on test data with 128 hidden nodes: 0.0\n",
      "Test Error on test data with 128 hidden nodes: 0.05928571428571429\n"
     ]
    }
   ],
   "source": [
    "# first will experiment with using a bigger number of hidden layer \n",
    "# doubling the size of hidden layers \n",
    "\n",
    "model = MLPClassifier(hidden_layer_sizes=(128,), activation='relu', solver='sgd', batch_size=256, \n",
    "                            learning_rate_init=0.01, n_iter_no_change=100, max_iter=100, random_state=seed)\n",
    "\n",
    "# fit to train data \n",
    "model.fit(X_tr, y_tr)\n",
    "\n",
    "# predict on test and val \n",
    "y_pred_train = model.predict(X_tr)\n",
    "y_pred_test = model.predict(X_te)\n",
    "\n",
    "# get error rate\n",
    "error_rate_train = np.mean(y_pred_train != y_tr)\n",
    "error_rate_test = np.mean(y_pred_test != y_te)\n",
    "\n",
    "\n",
    "print(f\"Train Error on test data with 128 hidden nodes: {error_rate_train}\")\n",
    "print(f\"Test Error on test data with 128 hidden nodes: {error_rate_test}\")"
   ]
  },
  {
   "cell_type": "code",
   "execution_count": 58,
   "id": "fe053af8",
   "metadata": {},
   "outputs": [
    {
     "name": "stdout",
     "output_type": "stream",
     "text": [
      "Train Error with alpha 0.001: 0.0\n",
      "Test Error with alpha 0.001: 0.052142857142857144\n",
      "\n",
      "Train Error with alpha 0.1: 0.0\n",
      "Test Error with alpha 0.1: 0.044571428571428574\n",
      "\n",
      "Train Error with alpha 0.5: 0.0001\n",
      "Test Error with alpha 0.5: 0.046142857142857145\n",
      "\n",
      "Train Error with alpha 1: 0.0051\n",
      "Test Error with alpha 1: 0.05085714285714286\n",
      "\n"
     ]
    }
   ],
   "source": [
    "# now ill experiment with various levels of regularization while also using 128 hidden nodes \n",
    "# and using a learning rate of 0.1\n",
    "\n",
    "alphas = [0.001, 0.1, 0.5, 1]\n",
    "\n",
    "for alpha in alphas: \n",
    "\n",
    "    model = MLPClassifier(hidden_layer_sizes=(128,), activation='relu', solver='sgd', batch_size=256,\n",
    "                          learning_rate_init=0.1, alpha=alpha, n_iter_no_change=100, max_iter=100, \n",
    "                          random_state=seed)\n",
    "\n",
    "    # fit to train data \n",
    "    model.fit(X_tr, y_tr)\n",
    "\n",
    "    # predict on test and val \n",
    "    y_pred_train = model.predict(X_tr)\n",
    "    y_pred_test = model.predict(X_te)\n",
    "\n",
    "    # get error rate\n",
    "    error_rate_train = np.mean(y_pred_train != y_tr)\n",
    "    error_rate_test = np.mean(y_pred_test != y_te)\n",
    "\n",
    "    print(f\"Train Error with alpha {alpha}: {error_rate_train}\")\n",
    "    print(f\"Test Error with alpha {alpha}: {error_rate_test}\\n\")"
   ]
  },
  {
   "cell_type": "code",
   "execution_count": 57,
   "id": "ec88c9ad",
   "metadata": {},
   "outputs": [
    {
     "name": "stdout",
     "output_type": "stream",
     "text": [
      "Train Error with batch size 128: 0.0001\n",
      "Test Error with batch size 128: 0.045142857142857144\n",
      "\n",
      "Train Error with batch size 256: 0.0\n",
      "Test Error with batch size 256: 0.044571428571428574\n",
      "\n",
      "Train Error with batch size 512: 0.0\n",
      "Test Error with batch size 512: 0.05185714285714286\n",
      "\n",
      "Train Error with batch size 1024: 0.0\n",
      "Test Error with batch size 1024: 0.056285714285714286\n",
      "\n"
     ]
    }
   ],
   "source": [
    "# i have found that using ReLu is the fastest, 0.1 is the best learning rate, \n",
    "# 0.1 is the best value of regularization so now i will experiment with various batch sizes \n",
    "\n",
    "sizes = [128, 256, 512, 1024]\n",
    "\n",
    "\n",
    "for size in sizes: \n",
    "\n",
    "    model = MLPClassifier(hidden_layer_sizes=(128,), activation='relu', solver='sgd', batch_size=size,\n",
    "                          learning_rate_init=0.1, alpha=0.1, n_iter_no_change=100, max_iter=100, \n",
    "                          random_state=seed)\n",
    "\n",
    "    # fit to train data \n",
    "    model.fit(X_tr, y_tr)\n",
    "\n",
    "    # predict on test and val \n",
    "    y_pred_train = model.predict(X_tr)\n",
    "    y_pred_test = model.predict(X_te)\n",
    "\n",
    "    # get error rate\n",
    "    error_rate_train = np.mean(y_pred_train != y_tr)\n",
    "    error_rate_test = np.mean(y_pred_test != y_te)\n",
    "\n",
    "    print(f\"Train Error with batch size {size}: {error_rate_train}\")\n",
    "    print(f\"Test Error with batch size {size}: {error_rate_test}\\n\")"
   ]
  },
  {
   "cell_type": "markdown",
   "id": "5661b33a",
   "metadata": {},
   "source": [
    "in class we learned that the ReLu activation finction is far superior than all the others so i chose ReLu as my activation function in all of my neural networks. from problem 2.2, i found that a learning rate of 0.1 led to the least amount of loss so i kept that parameter the same in all of my experiments. \n",
    "\n",
    "\n",
    "![](2.3.png)\n",
    "\n",
    "\n",
    "i found that 256 hidden nodes lead to a decrese in test error so i decided to use that value in all of my networks. i could have increased this number but i thought it would lead to overfitting and would be too many nodes in general. i then experimented with various levels of regularization and found that an alpha value of 0.1 was best in reducing train error. i then tried using various batch sizes but ultimately found that 256 was the perfect value. "
   ]
  },
  {
   "cell_type": "markdown",
   "id": "46af25fe",
   "metadata": {},
   "source": [
    "## Problem 3: Torch and Convolutional Networks\n",
    "\n",
    "In this problem, we will train a small convolutional neural network and compare it to the \"standard\" MLP model you built in Problem 2.  Since ``scikit`` does not support CNNs, we will implement a simple CNN model using ``torch``.\n",
    "\n",
    "The ``torch`` library may take a while to install if it is not yet on your system.  It should be pre-installed on ICS Jupyter Hub (``hub.ics.uci.edu``) and Google CoLab, if you prefer to use those."
   ]
  },
  {
   "cell_type": "markdown",
   "id": "ca421c8f",
   "metadata": {},
   "source": [
    "### Problem 3.0: Defining the CNN\n",
    "\n",
    "First, we need to define a CNN model.  This is done for you; it consists of one convolutional layer, a pooling layer to down-sample the hidden nodes, and a standard fully-connected or linear layer.  It contains methods to calculate the 0/1 loss as well as the negative log-likelihood, and trains using the Adam variant of SGD.\n",
    "\n",
    "It can (optionally) output a real-time plot of the training process at each epoch, if you would like to assess how it is doing."
   ]
  },
  {
   "cell_type": "code",
   "execution_count": 35,
   "id": "38923ae8",
   "metadata": {},
   "outputs": [],
   "source": [
    "import torch \n",
    "torch.set_default_dtype(torch.float64)\n",
    "\n",
    "class myConvNet(object):\n",
    "    def __init__(self):\n",
    "        # Initialize parameters: assumes data size! 28x28 and 10 classes\n",
    "        self.conv_ = torch.nn.Conv2d(1, 16, (5,5), stride=2)  # Be careful when declaring sizes;\n",
    "        self.pool_ = torch.nn.MaxPool2d(3, stride=2)          # inconsistent sizes will give you\n",
    "        self.lin_ = torch.nn.Linear(400,10)                   # hard-to-read error messages.\n",
    "            \n",
    "    def forward_(self,X):\n",
    "        \"\"\"Compute NN forward pass and output class probabilities (as tensor) \"\"\"\n",
    "        r1 = self.conv_(X)             # X is (m,1,28,28); R is (m,16,24,24)/2 = (m,16,12,12)\n",
    "        h1 = torch.relu(r1)            #\n",
    "        h1_pooled = self.pool_(h1)     # H1 is (m,16,12,12), so H1p is (m,16,10,10)/2 = (m,16,5,5)\n",
    "        h1_flat = torch.nn.Flatten()(h1_pooled)  # and H1f is (m,400)\n",
    "        r2 = self.lin_(h1_flat)\n",
    "        f  = torch.softmax(r2,axis=1)  # Output is (m,10)\n",
    "        return f \n",
    "        \n",
    "    def parameters(self): \n",
    "        return list(self.conv_.parameters())+list(self.pool_.parameters())+list(self.lin_.parameters())\n",
    "    \n",
    "    def predict(self,X):\n",
    "        \"\"\"Compute NN class predictions (as array) \"\"\"\n",
    "        m,n = X.shape\n",
    "        Xtorch = torch.tensor(X).reshape(m,1,int(np.sqrt(n)),int(np.sqrt(n)))\n",
    "        return self.classes_[np.argmax(self.forward_(Xtorch).detach().numpy(),axis=1)]   # pick the most probable class\n",
    "\n",
    "    def J01(self,X,y):   return (y != self.predict(X)).mean()\n",
    "    def JNLL_(self,X,y): return -torch.log(self.forward_(X)[range(len(y)),y.astype(int)]).mean()\n",
    "\n",
    "    def fit(self, X,y, batch_size=256, max_iter=100, learning_rate_init=.005, momentum=0.9, alpha=.001, plot=False):\n",
    "        self.classes_ = np.unique(y)        \n",
    "        m,n = X.shape\n",
    "        Xtorch = torch.tensor(X).reshape(m,1,int(np.sqrt(n)),int(np.sqrt(n)))        \n",
    "        self.loss01, self.lossNLL = [self.J01(X,y)], [float(self.JNLL_(Xtorch,y))]\n",
    "\n",
    "        optimizer = torch.optim.Adam(self.parameters(), lr=learning_rate_init)\n",
    "        for epoch in range(max_iter):                        # 1 epoch = pass through all data\n",
    "            pi = np.random.permutation(m)                    # per epoch: permute data order\n",
    "            for ii,i in enumerate(range(0,m,batch_size)):    # & split into mini-batches\n",
    "                ivals = pi[i:i+batch_size]\n",
    "                optimizer.zero_grad()                        # Reset the gradient computation\n",
    "                Ji = self.JNLL_(Xtorch[ivals,:,:,:],y[ivals])\n",
    "                Ji.backward()\n",
    "                optimizer.step()\n",
    "            self.loss01.append(self.J01(X,y))                # track 0/1 and NLL losses\n",
    "            self.lossNLL.append(float(self.JNLL_(Xtorch,y)))\n",
    "            \n",
    "            if plot:                                         # optionally visualize progress\n",
    "                display.clear_output(wait=True)\n",
    "                plt.plot(range(epoch+2),self.loss01,'b-',range(epoch+2),self.lossNLL,'c-')\n",
    "                plt.title(f'J01: {self.loss01[-1]}, NLL: {self.lossNLL[-1]}')\n",
    "                plt.draw(); plt.pause(.01);"
   ]
  },
  {
   "cell_type": "markdown",
   "id": "94f7c263",
   "metadata": {},
   "source": [
    "### Problem 3.1: CNN model structure (10 points)\n",
    "\n",
    "How many (trainable) parameters are specified in the convolutional network? \n",
    "(If you like, you can count them -- you can access them through each trainable element, e.g.,\n",
    "``myConvNet().conv_._parameters['weights']`` and ``..._parameters['bias']``).  List how many from each layer, and the total."
   ]
  },
  {
   "cell_type": "code",
   "execution_count": null,
   "id": "76440985",
   "metadata": {},
   "outputs": [],
   "source": []
  },
  {
   "cell_type": "markdown",
   "id": "693087e4",
   "metadata": {},
   "source": [
    "### Problem 3.2: Training the model (10 points)\n",
    "\n",
    "Now train your model on ``X_tr``. (Note that this should now include only 10k data points.)  If you like you can plot while training to monitor its progress.  Train for 50 epochs, using a learning rate of .001.\n",
    "\n",
    "(Note that my simple training process takes these arguments directly into ``fit``, rather than being part of the model properties as is typical in ``scikit``.)"
   ]
  },
  {
   "cell_type": "code",
   "execution_count": null,
   "id": "32b355be",
   "metadata": {},
   "outputs": [],
   "source": [
    "# create the convolutional network \n",
    "model = myConvNet()\n",
    "\n",
    "# fit the model to the training data\n",
    "model.fit(X_tr, y_tr, batch_size=256, max_iter=50, learning_rate_init=0.001, plot=True)\n",
    "\n",
    "#"
   ]
  },
  {
   "cell_type": "markdown",
   "id": "e573f85e",
   "metadata": {},
   "source": [
    "### Problem 3.3: Evaluation and Discussion (5 points)\n",
    "\n",
    "Evaluate your CNN model's training, validation, and test error.  Compare these to the values you got after optimizing your model's training process in Problem 2.3 (Tuning).  Why do you think these differences occur? (Note that your answer may depend on how well your model in P2.3 did, of course.)"
   ]
  },
  {
   "cell_type": "code",
   "execution_count": null,
   "id": "d280130f",
   "metadata": {},
   "outputs": [],
   "source": []
  },
  {
   "cell_type": "markdown",
   "id": "134c58a5",
   "metadata": {},
   "source": [
    "### Problem 3.4: Comparing Predictions (5 points)\n",
    "\n",
    "Consider the \"somewhat ambiguous\" data point ``X_val[592]``.  Display the data point (it will look a bit weird since it is already normalized).  Then, use your trained ``MLPClassifier`` model to predict the class probabilities.  If there are other classes with non-negligible probability, are they plausible?  Similarly, find the class probabilities predicted by your CNN model.  Compare the two models' uncertainty."
   ]
  },
  {
   "cell_type": "code",
   "execution_count": null,
   "id": "107ebe23",
   "metadata": {},
   "outputs": [],
   "source": []
  },
  {
   "cell_type": "markdown",
   "id": "5d94998c",
   "metadata": {},
   "source": [
    "<div>\n",
    "    <img src=\"data:image/svg+xml,%3C%3Fxml%20version%3D%221.0%22%20encoding%3D%22UTF-8%22%20standalone%3D%22no%22%3F%3E%0A%3C%21DOCTYPE%20svg%20PUBLIC%20%22-//W3C//DTD%20SVG%201.1//EN%22%20%22http%3A//www.w3.org/Graphics/SVG/1.1/DTD/svg11.dtd%22%3E%0A%3Csvg%20stroke-miterlimit%3D%2210%22%20style%3D%22fill-rule%3Anonzero%3Bclip-rule%3Aevenodd%3Bstroke-linecap%3Around%3Bstroke-linejoin%3Around%3B%22%20version%3D%221.1%22%20viewBox%3D%220%200%20288%2072%22%20xml%3Aspace%3D%22preserve%22%20xmlns%3D%22http%3A//www.w3.org/2000/svg%22%20xmlns%3Axlink%3D%22http%3A//www.w3.org/1999/xlink%22%3E%0A%3Cdefs/%3E%0A%3Cg%20id%3D%22Layer-1%22%3E%0A%3Cpath%20d%3D%22M34.042%2035.8741C45.8469%2023.244%2031.1794%2022.6473%2024.2857%2024.1167C17.3921%2025.5861-0.960215%2033.2987%206.07817%2043.4256C13.1166%2053.5525%2023.0237%2056.9377%2052.2446%2053.4091C81.4656%2049.8804%2097.2436%2032.811%20122.962%2029.3111C148.681%2025.8112%20155.118%2039.4093%20155.118%2039.4093%22%20fill%3D%22none%22%20opacity%3D%221%22%20stroke%3D%22%23000000%22%20stroke-linecap%3D%22butt%22%20stroke-linejoin%3D%22round%22%20stroke-width%3D%223%22/%3E%0A%3Cpath%20d%3D%22M254.053%2040.6889C242.328%2053.1071%20256.999%2053.6247%20263.883%2052.1549C270.768%2050.685%20289.071%2043.0512%20281.969%2033.1691C274.868%2023.287%20264.94%2020.0179%20235.741%2023.6051C206.543%2027.1922%20190.872%2043.9744%20165.176%2047.5176C139.48%2051.0607%20132.957%2037.7776%20132.957%2037.7776%22%20fill%3D%22none%22%20opacity%3D%221%22%20stroke%3D%22%23000000%22%20stroke-linecap%3D%22butt%22%20stroke-linejoin%3D%22round%22%20stroke-width%3D%223%22/%3E%0A%3C/g%3E%0A%3C/svg%3E%0A\" width=\"200\"/>\n",
    "</div>"
   ]
  },
  {
   "cell_type": "markdown",
   "id": "72711f6c",
   "metadata": {
    "id": "4a052765"
   },
   "source": [
    "### Statement of Collaboration (5 points)\n",
    "\n",
    "It is **mandatory** to include a Statement of Collaboration in each submission, with respect to the guidelines below. Include the names of everyone involved in the discussions (especially in-person ones), and what was discussed.\n",
    "\n",
    "All students are required to follow the academic honesty guidelines posted on the course website. For\n",
    "programming assignments, in particular, I encourage the students to organize (perhaps using EdD) to\n",
    "discuss the task descriptions, requirements, bugs in my code, and the relevant technical content before they start\n",
    "working on it. However, you should not discuss the specific solutions, and, as a guiding principle, you are not\n",
    "allowed to take anything written or drawn away from these discussions (i.e. no photographs of the blackboard,\n",
    "written notes, referring to EdD, etc.). Especially after you have started working on the assignment, try\n",
    "to restrict the discussion to EdD as much as possible, so that there is no doubt as to the extent of your\n",
    "collaboration."
   ]
  },
  {
   "cell_type": "markdown",
   "id": "c9be5f7e",
   "metadata": {},
   "source": [
    "i did not collaborate with anyone during the completion of this assignment. "
   ]
  }
 ],
 "metadata": {
  "colab": {
   "collapsed_sections": [],
   "provenance": []
  },
  "hide_input": false,
  "kernelspec": {
   "display_name": "Python 3",
   "language": "python",
   "name": "python3"
  },
  "language_info": {
   "codemirror_mode": {
    "name": "ipython",
    "version": 3
   },
   "file_extension": ".py",
   "mimetype": "text/x-python",
   "name": "python",
   "nbconvert_exporter": "python",
   "pygments_lexer": "ipython3",
   "version": "3.12.6"
  },
  "toc": {
   "base_numbering": 1,
   "nav_menu": {},
   "number_sections": true,
   "sideBar": true,
   "skip_h1_title": false,
   "title_cell": "Table of Contents",
   "title_sidebar": "Contents",
   "toc_cell": false,
   "toc_position": {},
   "toc_section_display": true,
   "toc_window_display": false
  },
  "varInspector": {
   "cols": {
    "lenName": 16,
    "lenType": 16,
    "lenVar": 40
   },
   "kernels_config": {
    "python": {
     "delete_cmd_postfix": "",
     "delete_cmd_prefix": "del ",
     "library": "var_list.py",
     "varRefreshCmd": "print(var_dic_list())"
    },
    "r": {
     "delete_cmd_postfix": ") ",
     "delete_cmd_prefix": "rm(",
     "library": "var_list.r",
     "varRefreshCmd": "cat(var_dic_list()) "
    }
   },
   "types_to_exclude": [
    "module",
    "function",
    "builtin_function_or_method",
    "instance",
    "_Feature"
   ],
   "window_display": false
  }
 },
 "nbformat": 4,
 "nbformat_minor": 5
}
